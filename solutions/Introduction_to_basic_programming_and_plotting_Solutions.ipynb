{
  "nbformat": 4,
  "nbformat_minor": 0,
  "metadata": {
    "colab": {
      "provenance": [],
      "authorship_tag": "ABX9TyOAcwRqhTl+CPpBKvVfc/6B",
      "include_colab_link": true
    },
    "kernelspec": {
      "name": "python3",
      "display_name": "Python 3"
    },
    "language_info": {
      "name": "python"
    }
  },
  "cells": [
    {
      "cell_type": "markdown",
      "metadata": {
        "id": "view-in-github",
        "colab_type": "text"
      },
      "source": [
        "<a href=\"https://colab.research.google.com/github/liamedeiros/Newton2BlackHoles/blob/main/solutions/Introduction_to_basic_programming_and_plotting_Solutions.ipynb\" target=\"_parent\"><img src=\"https://colab.research.google.com/assets/colab-badge.svg\" alt=\"Open In Colab\"/></a>"
      ]
    },
    {
      "cell_type": "markdown",
      "source": [
        "# Introduction to Basic Programming and Plotting\n",
        "\n",
        "You are using a jupyter notebook on Google colab!\n",
        "\n",
        "We will use this notebook to learn some basic programming!\n",
        "\n",
        "A few things to note:\n",
        "* You can create text cells or code cells using the \"insert\" tab above or by clicking on the \"+Code\" or \"+Text\" buttons on the top right. It will always create a cell below the last one you clicked on.\n",
        "\n",
        "* To **run** the cell you need to first click on the cell, and then press shift+enter. This will **run** the cell, which means that the computer will **execute** the **commands** you wrote in the cell.\n",
        "\n",
        "* To make changes to the text cells, click on them twice.\n",
        "\n",
        "Let's start by having you run the cell below. Click on the cell, press ```shift+enter``` and you should see in the top left corner a spinning symbol that shows that that cell is being executed. Once it is done, you should see a number inside of square brackets ```[ ]```. This number will increase by one each time you run a cell. Another way to execute the cell is to press the play button that appears when you hover your cursor over the number in the square brackets.\n",
        "\n",
        "Don't worry about the contents of the cell below yet, we are just loading in some libraries that we will need to use later on. When you run this, the computer will print out a bunch of stuff. Ignore all of that, it is just letting you know what it is installing. Note that none of this is getting installed on your local computer, it is all happening on this virtual computer on google colab."
      ],
      "metadata": {
        "id": "EhzgRyfUbWtY"
      }
    },
    {
      "cell_type": "code",
      "source": [
        "import numpy as np\n",
        "import matplotlib.pyplot as plt\n",
        "import scipy\n",
        "import matplotlib\n",
        "# from matplotlib import rcParams\n",
        "from matplotlib import rc\n",
        "%matplotlib inline\n",
        "!apt-get update\n",
        "!apt install cm-super\n",
        "!sudo apt install cm-super dvipng texlive-latex-extra texlive-latex-recommended\n",
        "matplotlib.rcParams['text.usetex'] = True\n",
        "matplotlib.rcParams['font.family'] = 'serif'\n"
      ],
      "metadata": {
        "id": "A7ewGz5CbUtu"
      },
      "execution_count": null,
      "outputs": []
    },
    {
      "cell_type": "markdown",
      "source": [
        "## PART 1\n",
        "\n",
        "Historically, it is a right of passage that the first thing anyone learns to do with programming is to make the computer say ```Hello World!```. This will illustrate the fact that with programming, we are giving the computer **commands** that it will **execute**.\n",
        "\n",
        "The cell below contains the word ```print``` followed by parenthesis. ```print``` is actually the name of a **function**, and in python all functions are always followed by a parenthesis ```()```. Inside of the parenthesis, we give the function an **argument**. The argument tells the function what we want it to print. It is important that ```'Hello World!'``` is in quotes. This tells the computer that this is a ```string``` and not the name of a variable.\n",
        "\n",
        "**Why don't you try it, run the next cell and see what happens!**"
      ],
      "metadata": {
        "id": "4D1xS2cWeVdY"
      }
    },
    {
      "cell_type": "code",
      "source": [
        "print('Hello World!')"
      ],
      "metadata": {
        "colab": {
          "base_uri": "https://localhost:8080/"
        },
        "id": "wpSSJ1ijezBL",
        "outputId": "64efc084-ddac-47de-d60d-c87bcff99cb0"
      },
      "execution_count": 20,
      "outputs": [
        {
          "output_type": "stream",
          "name": "stdout",
          "text": [
            "Hello World!\n"
          ]
        }
      ]
    },
    {
      "cell_type": "markdown",
      "source": [
        "Hopefully, you saw that the computer followed your instructions and printed out the words ```Hello World!``` below the cell. **Now it's your turn, in the cell below you can make the computer print out a statement, but please keep your statement appropriate.**"
      ],
      "metadata": {
        "id": "dXXjMJBkfkH1"
      }
    },
    {
      "cell_type": "code",
      "source": [],
      "metadata": {
        "id": "8Sif6TZvfkyM"
      },
      "execution_count": 20,
      "outputs": []
    },
    {
      "cell_type": "markdown",
      "source": [
        "## PART 2\n",
        "\n",
        "We will now learn how to define a variable. This is a little different than what you are used to seeing in your math classes. Usually if you see an equation in math class that says\n",
        "\n",
        "$x=10$\n",
        "\n",
        "this means that $x$ is equal to the value $10$. However, in programming, if you type ```x=10``` in the code cell below, what this means is that you are telling the computer to set a variable named ```x``` to the value of ```10```.\n",
        "\n",
        "In math an equation like\n",
        "\n",
        "$x=x+1$\n",
        "\n",
        "would be non-sensical, there is no value of $x$ that would make this true. However, in programming, we use equations like this all of the time. This is telling the computer to add one to the value of ```x``` and then save this new value (```x+1```) into the variable named ```x```. This increases ```x``` by one.\n",
        "\n",
        "We can also do some math with these variables. To multiply two variables together we would write ```a*b```, to aquare ```a``` we would write ```a**2```, addition, subtraction, and division can be performed with ```+```, ```-```, and ```/```. We can take the square root of a number or an array with ```np.sqrt()```, and take the cos, sin, tan of an angle (or an array of angles) in units of radians with ```np.cos()```, ```np.sin()```, and ```np.tan()```. Python will always follow the order of operations (PEMDAS) so feel free to add parenthesis if needed.\n",
        "\n",
        "Below I define two variables and set their values. **Execute this cell.**"
      ],
      "metadata": {
        "id": "Ur7Yb4ZSc8FO"
      }
    },
    {
      "cell_type": "code",
      "source": [
        "a = 10\n",
        "b = 5"
      ],
      "metadata": {
        "id": "FMPf_OBNayQt"
      },
      "execution_count": 21,
      "outputs": []
    },
    {
      "cell_type": "markdown",
      "source": [
        "I have set the variable ```a``` to the value ```10```, and the variable ```b``` to the value of ```5```.\n",
        "\n",
        "I can check that the computer executed my command correctly by printing out the values of the variable ```a``` and the variable ```b```. **Execute this cell**"
      ],
      "metadata": {
        "id": "CMgm9OE_f2Yc"
      }
    },
    {
      "cell_type": "code",
      "source": [
        "print(a, b)"
      ],
      "metadata": {
        "colab": {
          "base_uri": "https://localhost:8080/"
        },
        "id": "Ov6JiUhgf2rb",
        "outputId": "621d58a6-ac04-4a54-ed2c-32fd98db7759"
      },
      "execution_count": 22,
      "outputs": [
        {
          "output_type": "stream",
          "name": "stdout",
          "text": [
            "10 5\n"
          ]
        }
      ]
    },
    {
      "cell_type": "markdown",
      "source": [
        " **Now, I would like you to switch them, such that the variable ```a``` will contain the value that used to be in ```b``` and the variable ```b``` will contain the value that used to be in ```a```. As a challenge I would like you to do this without typing out ```a=5``` or ```b=10```.**\n",
        "\n",
        "Please add code in the cell below to switch them. After you have switched the values, please print out the new values of ```a``` and ```b``` to check that it worked. Notice that since ```a``` and ```b``` are variables and not strings I do not need to add quotes."
      ],
      "metadata": {
        "id": "2FZOtcZYeFzb"
      }
    },
    {
      "cell_type": "code",
      "source": [
        " # solution:\n",
        "c = a\n",
        "a = b\n",
        "b = c\n",
        "\n",
        "print(a, b)\n"
      ],
      "metadata": {
        "colab": {
          "base_uri": "https://localhost:8080/"
        },
        "id": "QOZy_wVsgGOt",
        "outputId": "b66b3e0f-550a-42c0-b468-32c34e563cc5"
      },
      "execution_count": 23,
      "outputs": [
        {
          "output_type": "stream",
          "name": "stdout",
          "text": [
            "5 10\n"
          ]
        }
      ]
    },
    {
      "cell_type": "markdown",
      "source": [
        "## PART 3\n",
        "\n",
        "Depending on what grade you are in in school you may have learned to make graphs on graph paper in your math class. We will now learn how to do that on the computer.\n",
        "\n",
        "I wrote the code below so that it will make a graph that has the $x$ and $y$ axes and a grid so that it looks like graph paper. I've also plotted a single point on the graph, and this point is at a location where $x=0.5$ and $y=0.5$. **Execute this cell.**"
      ],
      "metadata": {
        "id": "McrBTrjKgO_S"
      }
    },
    {
      "cell_type": "code",
      "source": [
        "plt.scatter(.5, .5) # this commmand plots the dot at (.5, .5)\n",
        "plt.xlim([0, 2.5]) # this command tells the computer the limits for the x-axis\n",
        "plt.ylim([0, 2.5]) # this command tells the computer the limits for the y-axis\n",
        "plt.xlabel('x', size=14) # this command adds a label to the x-axis, and this label is \"x\"\n",
        "plt.ylabel('y', size=14) # this command adds a label to the y-axis, and this label is \"y\"\n",
        "plt.grid() # this command adds a grid to the graph"
      ],
      "metadata": {
        "colab": {
          "base_uri": "https://localhost:8080/",
          "height": 456
        },
        "id": "I3L9dm4mgpo7",
        "outputId": "d0b94370-d29f-4b60-e6db-fe2123dde52b"
      },
      "execution_count": 24,
      "outputs": [
        {
          "output_type": "display_data",
          "data": {
            "text/plain": [
              "<Figure size 640x480 with 1 Axes>"
            ],
            "image/png": "[encoded data removed]"
          },
          "metadata": {}
        }
      ]
    },
    {
      "cell_type": "markdown",
      "source": [
        "Notice how the blue point is located at $x=0.5$ and $y=0.5$ in the graph.\n",
        "\n",
        "The words in green in the cell above are **comments**. In python, anything that comes after ```#``` will be ignored by the computer, that is just there for us, the humans, to read so that we can better understand what the code is doing.\n",
        "\n",
        "The command ```plt.scatter``` is a function that takes in the location of the points and then draws the dots on the graph. In python, there are several libraries (we loaded them in with the very first code cell). ```plt``` is the name of a library and within that library exists a function called ```scatter```. The dot between ```plt``` and ```scatter``` tells the computer that the function ```scatter``` is inside of the ```plt``` library. The same is true for ```xlim```, ```ylim```, ```xlabel```, and ```ylabel```, these are all functions inside of the ```plt``` library.\n",
        "\n",
        "**Now it's your turn! I've copied the code from the cell above below. I want you to add a second point at $x=1$ and $y=1$. Once you have the second point, add a third point at $x=1.5$ and $y=1.5$. Your graph should have three points when you are done.**"
      ],
      "metadata": {
        "id": "ti4NpztAiKWx"
      }
    },
    {
      "cell_type": "code",
      "source": [
        "plt.scatter(.5, .5) # this commmand plots the dot at (.5, .5)\n",
        "plt.xlim([0, 2.5]) # this command tells the computer the limits for the x-axis\n",
        "plt.ylim([0, 2.5]) # this command tells the computer the limits for the y-axis\n",
        "plt.xlabel('x', size=14) # this command adds a label to the x-axis, and this label is \"x\"\n",
        "plt.ylabel('y', size=14) # this command adds a label to the y-axis, and this label is \"y\"\n",
        "plt.grid() # this command adds a grid to the graph\n",
        "\n",
        "# Solution add:\n",
        "plt.scatter(1, 1) # this commmand plots the dot at (.5,.5)\n",
        "plt.scatter(1.5, 1.5) # this commmand plots the dot at (1.5,1.5)"
      ],
      "metadata": {
        "colab": {
          "base_uri": "https://localhost:8080/",
          "height": 474
        },
        "id": "Y6lpRaSYg101",
        "outputId": "23339024-ba96-48e0-d193-fdc76463f382"
      },
      "execution_count": 25,
      "outputs": [
        {
          "output_type": "execute_result",
          "data": {
            "text/plain": [
              "<matplotlib.collections.PathCollection at 0x7b74969a5a50>"
            ]
          },
          "metadata": {},
          "execution_count": 25
        },
        {
          "output_type": "display_data",
          "data": {
            "text/plain": [
              "<Figure size 640x480 with 1 Axes>"
            ],
            "image/png": "[encoded data removed]"
          },
          "metadata": {}
        }
      ]
    },
    {
      "cell_type": "markdown",
      "source": [
        "## PART 4\n",
        "\n",
        "In programming it is possible to store multiple values within a single variable. When we store multiple values in a single variable that variable is called an **array**. As an example, below I create a single variable that contains all three of the $x$ values for the three points you graphed above.\n",
        "\n",
        "Note that the ```np``` library ('numpy') contains all the functions for deadling with arrays. The function ```array``` is used to generate an array. As with any function in python it is followed by ```()```, but in this case we also need ```[]``` to create the array. Each array element is always separated by ```,```."
      ],
      "metadata": {
        "id": "XMYhHgOAtGIM"
      }
    },
    {
      "cell_type": "code",
      "source": [
        "x_values = np.array([0.5, 1, 1.5]) # here I create an array called x_values that creates the three values for x for the three dots above.\n",
        "print(x_values)"
      ],
      "metadata": {
        "colab": {
          "base_uri": "https://localhost:8080/"
        },
        "id": "AaKYEsf-ip9T",
        "outputId": "06b06b6e-9516-4cde-9238-ad16488770d6"
      },
      "execution_count": 26,
      "outputs": [
        {
          "output_type": "stream",
          "name": "stdout",
          "text": [
            "[0.5 1.  1.5]\n"
          ]
        }
      ]
    },
    {
      "cell_type": "markdown",
      "source": [
        "Notice that I wrote the three values in a specific order, the first point we plotted is the first value, and the second point we plotted is the second value and so on. I printed out the variable ```x_values``` after I defined it and you can see that all three values are printed, in the correct order.\n",
        "\n",
        "**In the cell below I want you to define a new variable called ```y_values``` and I want you to fill ```y_values``` with the three values for $y$ for the three points we plotted above. ```print``` the values of ```y_values``` once you have defined it.**"
      ],
      "metadata": {
        "id": "_BAL88Ljtxmt"
      }
    },
    {
      "cell_type": "code",
      "source": [
        "# Solution:\n",
        "y_values = np.array([0.5, 1, 1.5])\n",
        "print(y_values)"
      ],
      "metadata": {
        "id": "1dLFX1Xstwyr",
        "colab": {
          "base_uri": "https://localhost:8080/"
        },
        "outputId": "e3552bf8-6a9d-41fa-9826-2b94861dbd64"
      },
      "execution_count": 27,
      "outputs": [
        {
          "output_type": "stream",
          "name": "stdout",
          "text": [
            "[0.5 1.  1.5]\n"
          ]
        }
      ]
    },
    {
      "cell_type": "markdown",
      "source": [
        "We will now use these two new variables that we've defined to plot all three points at once. ```plt.scatter``` can take in an array instead of just a value for $x$ and for $y$. **Execute the cell.**"
      ],
      "metadata": {
        "id": "l-24lnP4vXkH"
      }
    },
    {
      "cell_type": "code",
      "source": [
        "plt.scatter(x_values, y_values) # this commmand plots all three points\n",
        "plt.xlim([0, 2.5]) # this command tells the computer the limits for the x-axis\n",
        "plt.ylim([0, 2.5]) # this command tells the computer the limits for the y-axis\n",
        "plt.xlabel('x', size=14) # this command adds a label to the x-axis, and this label is \"x\"\n",
        "plt.ylabel('y', size=14) # this command adds a label to the y-axis, and this label is \"y\"\n",
        "plt.grid() # this command adds a grid to the graph"
      ],
      "metadata": {
        "colab": {
          "base_uri": "https://localhost:8080/",
          "height": 456
        },
        "id": "xRWkv3tMvWaG",
        "outputId": "1640d095-98fc-40f8-9d0f-ac20a06ec7c9"
      },
      "execution_count": 28,
      "outputs": [
        {
          "output_type": "display_data",
          "data": {
            "text/plain": [
              "<Figure size 640x480 with 1 Axes>"
            ],
            "image/png": "[encoded data removed]"
          },
          "metadata": {}
        }
      ]
    },
    {
      "cell_type": "markdown",
      "source": [
        "The code above should have plotted three points just like before. However, this time the points are all the same color, because they are all plotted with a single ```plt.scatter``` command.\n",
        "\n",
        "Notice that all three points lie along a straight line. To plot a line through these three points we can use the ```plt.plot``` function. **Execute the cell below.**"
      ],
      "metadata": {
        "id": "Amen2F5awEwy"
      }
    },
    {
      "cell_type": "code",
      "source": [
        "plt.scatter(x_values, y_values) # this commmand plots all three points\n",
        "plt.xlim([0, 2.5]) # this command tells the computer the limits for the x-axis\n",
        "plt.ylim([0, 2.5]) # this command tells the computer the limits for the y-axis\n",
        "plt.xlabel('x', size=14) # this command adds a label to the x-axis, and this label is \"x\"\n",
        "plt.ylabel('y', size=14) # this command adds a label to the y-axis, and this label is \"y\"\n",
        "plt.grid() # this command adds a grid to the graph\n",
        "\n",
        "plt.plot(x_values, y_values) # this commmand plots a line through all three points"
      ],
      "metadata": {
        "colab": {
          "base_uri": "https://localhost:8080/",
          "height": 474
        },
        "id": "0kFWg0JOwDDE",
        "outputId": "ebb76b97-1146-457f-e466-c62b1b676e51"
      },
      "execution_count": 29,
      "outputs": [
        {
          "output_type": "execute_result",
          "data": {
            "text/plain": [
              "[<matplotlib.lines.Line2D at 0x7b7496a7fb50>]"
            ]
          },
          "metadata": {},
          "execution_count": 29
        },
        {
          "output_type": "display_data",
          "data": {
            "text/plain": [
              "<Figure size 640x480 with 1 Axes>"
            ],
            "image/png": "[encoded data removed]"
          },
          "metadata": {}
        }
      ]
    },
    {
      "cell_type": "markdown",
      "source": [
        "You can think about arrays as tables or lists. Below I make a table that contains the values of both ```x_values``` and ```y_values``` so that you can see how the contents of these two variables are ordered in a way that each row of the table corresponds to one of our points.\n",
        "\n",
        "which point | ```x_values```  | ```y_values```\n",
        "-------------------|-------------------|------------------\n",
        "first point  | 0.5       | 0.5\n",
        "second point | 1         | 1\n",
        "third point  | 1.5       | 1.5"
      ],
      "metadata": {
        "id": "CyReYNvJxW32"
      }
    },
    {
      "cell_type": "markdown",
      "source": [
        "## PART 5\n",
        "\n",
        "In your math class you might also have learned the concept of **slope**. Slope is a measure of how steep the line we've drawn is. Slope is defined as follows:\n",
        "\n",
        "$\\mathrm{\\mathrm{slope}} = \\frac{\\mathrm{rise}}{\\mathrm{run}}$\n",
        "\n",
        "or in words, slope equals rise over run. What this means in practice is that you can measure the slope of the line we've drawn by measuring the length and height of the line. **Execute the code cell below to see an example.**"
      ],
      "metadata": {
        "id": "BW5I0FeUOM1q"
      }
    },
    {
      "cell_type": "code",
      "source": [
        "plt.scatter(x_values, y_values) # this commmand plots all three points\n",
        "plt.xlim([0, 2.5]) # this command tells the computer the limits for the x-axis\n",
        "plt.ylim([0, 2.5]) # this command tells the computer the limits for the y-axis\n",
        "plt.xlabel('x') # this command adds a label to the x-axis, and this label is \"x\"\n",
        "plt.ylabel('y') # this command adds a label to the y-axis, and this label is \"y\"\n",
        "plt.grid() # this command adds a grid to the graph\n",
        "\n",
        "plt.plot(x_values, y_values) # this commmand plots a line through all three points\n",
        "\n",
        "# code below adds the additional lines and text to ilustrate slope, don't worry about this part for now\n",
        "plt.plot([0.5, 1.5], [0.5, 0.5], color='red')\n",
        "plt.plot([1.5, 1.5], [0.5, 1.5], color='green')\n",
        "plt.text(.94, 0.4, 'run', color='red', size=16)\n",
        "plt.text(1.53, .9, 'rise', color='green', size=16)\n",
        "\n",
        "plt.fill([.5, 1.5, 1.5, .5], [.5, .5, 1.5, .5], color='C0', alpha=0.4)"
      ],
      "metadata": {
        "colab": {
          "base_uri": "https://localhost:8080/",
          "height": 469
        },
        "id": "obErXKuiwrbR",
        "outputId": "c7ac60aa-e8ba-40e9-9d79-69de4af46165"
      },
      "execution_count": 30,
      "outputs": [
        {
          "output_type": "execute_result",
          "data": {
            "text/plain": [
              "[<matplotlib.patches.Polygon at 0x7b7496928730>]"
            ]
          },
          "metadata": {},
          "execution_count": 30
        },
        {
          "output_type": "display_data",
          "data": {
            "text/plain": [
              "<Figure size 640x480 with 1 Axes>"
            ],
            "image/png": "[encoded data removed]"
          },
          "metadata": {}
        }
      ]
    },
    {
      "cell_type": "markdown",
      "source": [
        "As you can see in the plot, the values along the $x$-axis go from $0.5$ to $1.5$ while the values for the $y$-axis also go from $0.5$ to $1.5$. If we plug this into our equation from the slope we get:\n",
        "\n",
        "$$\\mathrm{\\mathrm{slope}} = \\frac{\\mathrm{1.5 - 0.5}}{\\mathrm{1.5-0.5}}$$\n",
        "\n",
        "$$\\mathrm{\\mathrm{slope}} = \\frac{\\mathrm{1}}{\\mathrm{1}}$$\n",
        "\n",
        "$$\\mathrm{\\mathrm{slope}} = 1$$\n",
        "\n",
        "Therefore, the slope of the line we've plotted above is 1.\n",
        "\n",
        "Below, I've plotted two other lines in two separate plots (execute the code cell below to see). For each one I want you to find the slope of the blue line.\n",
        "\n"
      ],
      "metadata": {
        "id": "G25BlbeF1OtU"
      }
    },
    {
      "cell_type": "code",
      "source": [
        "x_values2 = np.array([.5, 1.25, 2]) # here we define a new array that contains the second set of x values\n",
        "y_values2 = np.array([.5, .75, 1]) # here we define a new array that contains the second set of y values\n",
        "\n",
        "plt.xlim([0, 2.5]) # this command tells the computer the limits for the x-axis\n",
        "plt.ylim([0, 2.5]) # this command tells the computer the limits for the y-axis\n",
        "plt.xlabel('x') # this command adds a label to the x-axis, and this label is \"x\"\n",
        "plt.ylabel('y') # this command adds a label to the y-axis, and this label is \"y\"\n",
        "plt.grid() # this command adds a grid to the graph\n",
        "\n",
        "# code below adds the additional lines and text to ilustrate slope\n",
        "plt.plot([0.5, 2], [0.5, 0.5], color='red')\n",
        "plt.plot([2, 2], [0.5, 1], color='green')\n",
        "plt.text(1.2, 0.35, 'run', color='red', size=16)\n",
        "plt.text(2.05, .75, 'rise', color='green', size=16)\n",
        "\n",
        "plt.fill([.5, 2, 2, .5], [.5, .5, 1, .5], color='C0', alpha=0.4)\n",
        "plt.plot(x_values2,y_values2, color='C0')\n",
        "plt.scatter(x_values2,y_values2, color='C0')"
      ],
      "metadata": {
        "colab": {
          "base_uri": "https://localhost:8080/",
          "height": 469
        },
        "id": "eKoCV1gaz5pC",
        "outputId": "957d03f0-3c17-42ca-ad73-a3a0fc7654fe"
      },
      "execution_count": 31,
      "outputs": [
        {
          "output_type": "execute_result",
          "data": {
            "text/plain": [
              "<matplotlib.collections.PathCollection at 0x7b74967aca00>"
            ]
          },
          "metadata": {},
          "execution_count": 31
        },
        {
          "output_type": "display_data",
          "data": {
            "text/plain": [
              "<Figure size 640x480 with 1 Axes>"
            ],
            "image/png": "[encoded data removed]"
          },
          "metadata": {}
        }
      ]
    },
    {
      "cell_type": "markdown",
      "source": [
        "type here the slope for the blue line above and then execute the next code cell.\n",
        "\n",
        "**Solution:** $\\frac{1}{3}$"
      ],
      "metadata": {
        "id": "8VhkILpm2rPd"
      }
    },
    {
      "cell_type": "code",
      "source": [
        "x_values3 = np.array([.5, .75, 1]) # here we define a new array that contains the third set of x values\n",
        "y_values3 = np.array([.5, 1.25, 2]) # here we define a new array that contains the third set of y values\n",
        "\n",
        "plt.xlim([0, 2.5]) # this command tells the computer the limits for the x-axis\n",
        "plt.ylim([0, 2.5]) # this command tells the computer the limits for the y-axis\n",
        "plt.xlabel('x') # this command adds a label to the x-axis, and this label is \"x\"\n",
        "plt.ylabel('y') # this command adds a label to the y-axis, and this label is \"y\"\n",
        "plt.grid() # this command adds a grid to the graph\n",
        "\n",
        "# code below adds the additional lines and text to ilustrate slope\n",
        "plt.plot([0.5, 1], [0.5, 0.5], color='red')\n",
        "plt.plot([1, 1], [0.5, 2.], color='green')\n",
        "plt.text(.7, 0.35, 'run', color='red', size=16)\n",
        "plt.text(1.05, 1.22, 'rise', color='green', size=16)\n",
        "\n",
        "plt.fill([.5, 1, 1, .5], [.5, .5, 2, .5], color='C0', alpha=0.4)\n",
        "plt.plot(x_values3, y_values3, color='C0')\n",
        "plt.scatter(x_values3, y_values3, color='C0')\n"
      ],
      "metadata": {
        "colab": {
          "base_uri": "https://localhost:8080/",
          "height": 469
        },
        "id": "a6W6Lmcb2Ws-",
        "outputId": "7fc9e8b7-e446-4abd-c880-b279630e671a"
      },
      "execution_count": 32,
      "outputs": [
        {
          "output_type": "execute_result",
          "data": {
            "text/plain": [
              "<matplotlib.collections.PathCollection at 0x7b74968309d0>"
            ]
          },
          "metadata": {},
          "execution_count": 32
        },
        {
          "output_type": "display_data",
          "data": {
            "text/plain": [
              "<Figure size 640x480 with 1 Axes>"
            ],
            "image/png": "[encoded data removed]"
          },
          "metadata": {}
        }
      ]
    },
    {
      "cell_type": "markdown",
      "source": [
        "type here the slope for the blue line above\n",
        "\n",
        "**Solution:** $3$"
      ],
      "metadata": {
        "id": "beYvK0yk4tUY"
      }
    },
    {
      "cell_type": "markdown",
      "source": [
        "## PART 6\n",
        "\n",
        "Instead of having to manually measure the $\\mathrm{rise}$ and the $\\mathrm{run}$ of the lines above, we can make the computer do that for us.\n",
        "\n",
        "We will do this by **fitting** a line to our points as shown below. I will use our original line as the example here, with the variables ```x_values``` and ```y_values```.\n",
        "\n",
        "Fitting a curve to data points is an incredibly important aspect of science. We usually have data points that have errors, such that they might not lie perfectly along a line. Scientists frequently fit theoretical expectations (equations) to experimental results (data points) to see whether the theoretical expectations are correct and to fit for the values of parameters."
      ],
      "metadata": {
        "id": "fDszuaA25AGX"
      }
    },
    {
      "cell_type": "code",
      "source": [
        "slope, intercept, r_value, p_value, std_err = scipy.stats.linregress(x_values, y_values)\n",
        "print(slope)"
      ],
      "metadata": {
        "colab": {
          "base_uri": "https://localhost:8080/"
        },
        "id": "YAFeywyM3ue4",
        "outputId": "0a51a350-4ab1-4391-a73b-cb37c9941708"
      },
      "execution_count": 33,
      "outputs": [
        {
          "output_type": "stream",
          "name": "stdout",
          "text": [
            "1.0\n"
          ]
        }
      ]
    },
    {
      "cell_type": "markdown",
      "source": [
        "In the cell above ```scipy.stats.linregress``` is a function that is part of the ```scipy``` library, and part of the ```stats``` library. This function takes in the values of $x$ and $y$, in this case ```x_values``` and ```y_values``` for the first line, and **returns** the value for the slope of that line, along with some other values that we will ignore for now. The way this is written, the variable named ```slope``` will contain the value for the slope that the function returns.  \n",
        "\n",
        "**You can do the same thing for the other two lines. I used different variables for the other two lines above. For the second line I used the variables ```x_values2``` and ```y_values2``` while for the third line I used ```x_values3``` and ```y_values3```. As an exercise, use ```scipy.stats.linregress``` to print the slope for the other two lines below. You can save the new slope and intercept values as ```slope2```, ```slope3```, ```intercept2```, and ```intercept3```. You can keep the variables ```r_value```, ```p_value```, ```std_err``` the same for now, since we won't be using them. They contain information about how good the fit is.**"
      ],
      "metadata": {
        "id": "1dTCicby7SSc"
      }
    },
    {
      "cell_type": "code",
      "source": [
        "# Solution:\n",
        "slope2, intercept2, r_value, p_value, std_err = scipy.stats.linregress(x_values2, y_values2)\n",
        "print(slope2)\n",
        "\n",
        "slope3, intercept3, r_value, p_value, std_err = scipy.stats.linregress(x_values3, y_values3)\n",
        "print(slope3)"
      ],
      "metadata": {
        "colab": {
          "base_uri": "https://localhost:8080/"
        },
        "id": "-W7CslWa6XzV",
        "outputId": "a154807d-709e-4afd-91ef-0e34a6c657f1"
      },
      "execution_count": 34,
      "outputs": [
        {
          "output_type": "stream",
          "name": "stdout",
          "text": [
            "0.3333333333333333\n",
            "3.0\n"
          ]
        }
      ]
    },
    {
      "cell_type": "markdown",
      "source": [
        "## PART 7\n",
        "\n",
        "The equation for a straight line can be written as:\n",
        "\n",
        "$y=mx+b$\n",
        "\n",
        "where $m$ is the slope and $b$ is the $y$-intercept. This is the equation that ```scipy.stats.linregress``` is fitting to our points. It returns the best fit slope value and the best fit $y$-intercept.\n",
        "\n",
        "We will use this equation to plot the \"best fit\" line from the function onto the same plot as our points so that we can check whether it is a good fit.\n",
        "\n",
        "The first step to accomplish this is to generate an **array** that contains a range of values. This is the array that we will **plug into** the equation above for $x$. This will allow us to easily calculate a range of $y$ values based on these $x$ values.\n",
        "\n",
        "In the cell below I use the ```np.arange``` function, which is part of the ```np``` ('numpy') library, to generate an array with a range of values. **Execute this cell.**"
      ],
      "metadata": {
        "id": "1YL59QmGt7wh"
      }
    },
    {
      "cell_type": "code",
      "source": [
        "x_fit = np.arange(10)\n",
        "print(x_fit)"
      ],
      "metadata": {
        "id": "KxsfJikdt8eD",
        "colab": {
          "base_uri": "https://localhost:8080/"
        },
        "outputId": "34bb34b3-157f-4d65-ef0f-7edb2bb6ccf5"
      },
      "execution_count": 35,
      "outputs": [
        {
          "output_type": "stream",
          "name": "stdout",
          "text": [
            "[0 1 2 3 4 5 6 7 8 9]\n"
          ]
        }
      ]
    },
    {
      "cell_type": "markdown",
      "source": [
        "Notice how the new array we've created (```x_fit```) ranges from 0 to 9. If instead we wrote 5 in the parenthesis it would range from 0 to 4.\n",
        "\n",
        "We can now plug this variable into the equation for a line ($y=mx+b$) to calculate the $y$-values. In this example we will use the ```slope``` and ```intercept``` that we found above with ```scipy.stats.linregress``` for our first set of points. **Execute this cell.**"
      ],
      "metadata": {
        "id": "_VM48osnkNit"
      }
    },
    {
      "cell_type": "code",
      "source": [
        "y_fit = slope*x_fit + intercept\n",
        "print(y_fit)"
      ],
      "metadata": {
        "id": "JgyMMlimuD2g",
        "colab": {
          "base_uri": "https://localhost:8080/"
        },
        "outputId": "0e50d218-e5d0-4d03-8dc4-c5a953991f69"
      },
      "execution_count": 36,
      "outputs": [
        {
          "output_type": "stream",
          "name": "stdout",
          "text": [
            "[0. 1. 2. 3. 4. 5. 6. 7. 8. 9.]\n"
          ]
        }
      ]
    },
    {
      "cell_type": "markdown",
      "source": [
        "## PART 8\n",
        "\n",
        "I have copied code from above that plots the three points that we fit with ```scipy.stats.linregress```. I've added a label to our line and a legend that will show the label. **Execute this cell.**\n"
      ],
      "metadata": {
        "id": "_Y-dWe77lfsZ"
      }
    },
    {
      "cell_type": "code",
      "source": [
        "plt.scatter(x_values, y_values) # this commmand plots all three points\n",
        "plt.xlim([0, 2]) # this command tells the computer the limits for the x-axis\n",
        "plt.ylim([0, 2]) # this command tells the computer the limits for the y-axis\n",
        "plt.xlabel('x', size=14) # this command adds a label to the x-axis, and this label is \"x\"\n",
        "plt.ylabel('y', size=14) # this command adds a label to the y-axis, and this label is \"y\"\n",
        "plt.grid() # this command adds a grid to the graph\n",
        "\n",
        "plt.plot(x_values, y_values, label='points') # this commmand plots a line through all three points\n",
        "\n",
        "plt.plot(x_fit, y_fit, label='fit') # this commmand plots a line that shows the best fit to our points\n",
        "\n",
        "plt.legend() # this command adds a legend to the plot"
      ],
      "metadata": {
        "colab": {
          "base_uri": "https://localhost:8080/",
          "height": 474
        },
        "id": "DYFHzI93lWjF",
        "outputId": "3b742e9e-941e-442f-c57b-98d16f679dc3"
      },
      "execution_count": 37,
      "outputs": [
        {
          "output_type": "execute_result",
          "data": {
            "text/plain": [
              "<matplotlib.legend.Legend at 0x7b749685a3e0>"
            ]
          },
          "metadata": {},
          "execution_count": 37
        },
        {
          "output_type": "display_data",
          "data": {
            "text/plain": [
              "<Figure size 640x480 with 1 Axes>"
            ],
            "image/png": "[encoded data removed]"
          },
          "metadata": {}
        }
      ]
    },
    {
      "cell_type": "markdown",
      "source": [
        "**Now it's your turn!**\n",
        "\n",
        "**Let's generate two other plots for the two other sets of points that compare the fit to the original points.**\n",
        "\n",
        "To do this you will need to define a new array called ```x_fit2``` and use the variables ```slope2``` and ```intercept2``` that we've defined above to calculate the values of ```y_fit2```. You will then need to plot the points (```x_values2```, ```y_values2```) on the same plot as the line for the fit. Don't forget to add a legend!"
      ],
      "metadata": {
        "id": "_zQKMdtlmRD7"
      }
    },
    {
      "cell_type": "code",
      "source": [
        "# Solution!\n",
        "x_fit2 = np.arange(10)\n",
        "y_fit2 = slope2*x_fit2 + intercept2\n",
        "\n",
        "plt.scatter(x_values2, y_values2) # this commmand plots all three points\n",
        "plt.xlim([0, 2.5]) # this command tells the computer the limits for the x-axis\n",
        "plt.ylim([0, 2.5]) # this command tells the computer the limits for the y-axis\n",
        "plt.xlabel('x', size=14) # this command adds a label to the x-axis, and this label is \"x\"\n",
        "plt.ylabel('y', size=14) # this command adds a label to the y-axis, and this label is \"y\"\n",
        "plt.grid() # this command adds a grid to the graph\n",
        "\n",
        "plt.plot(x_values2, y_values2, label='points') # this commmand plots a line through all three points\n",
        "\n",
        "plt.plot(x_fit2, y_fit2, label='fit') # this commmand plots a line that shows the best fit to our points\n",
        "\n",
        "plt.legend() # this command adds a legend to the plot"
      ],
      "metadata": {
        "colab": {
          "base_uri": "https://localhost:8080/",
          "height": 474
        },
        "id": "EgUu5hGdlyBh",
        "outputId": "c4299875-8f93-406f-8002-3771555914b5"
      },
      "execution_count": 38,
      "outputs": [
        {
          "output_type": "execute_result",
          "data": {
            "text/plain": [
              "<matplotlib.legend.Legend at 0x7b74966f16f0>"
            ]
          },
          "metadata": {},
          "execution_count": 38
        },
        {
          "output_type": "display_data",
          "data": {
            "text/plain": [
              "<Figure size 640x480 with 1 Axes>"
            ],
            "image/png": "[encoded data removed]"
          },
          "metadata": {}
        }
      ]
    },
    {
      "cell_type": "markdown",
      "source": [
        "In the cell below do the same thing for the third set of points."
      ],
      "metadata": {
        "id": "yUbTal8anBUV"
      }
    },
    {
      "cell_type": "code",
      "source": [
        "# Solution!\n",
        "x_fit3 = np.arange(10)\n",
        "y_fit3 = slope3*x_fit3 + intercept3\n",
        "\n",
        "\n",
        "plt.scatter(x_values3, y_values3) # this commmand plots all three points\n",
        "plt.xlim([0, 2.5]) # this command tells the computer the limits for the x-axis\n",
        "plt.ylim([0, 2.5]) # this command tells the computer the limits for the y-axis\n",
        "plt.xlabel('x', size=14) # this command adds a label to the x-axis, and this label is \"x\"\n",
        "plt.ylabel('y', size=14) # this command adds a label to the y-axis, and this label is \"y\"\n",
        "plt.grid() # this command adds a grid to the graph\n",
        "\n",
        "plt.plot(x_values3, y_values3, label='points') # this commmand plots a line through all three points\n",
        "\n",
        "plt.plot(x_fit3, y_fit3, label='fit') # this commmand plots a line that shows the best fit to our points\n",
        "\n",
        "plt.legend() # this command adds a legend to the plot"
      ],
      "metadata": {
        "colab": {
          "base_uri": "https://localhost:8080/",
          "height": 474
        },
        "id": "duEhjpaZnE4x",
        "outputId": "20a15c64-04f8-4550-b925-f2b8fe2c1a44"
      },
      "execution_count": 39,
      "outputs": [
        {
          "output_type": "execute_result",
          "data": {
            "text/plain": [
              "<matplotlib.legend.Legend at 0x7b7496771fc0>"
            ]
          },
          "metadata": {},
          "execution_count": 39
        },
        {
          "output_type": "display_data",
          "data": {
            "text/plain": [
              "<Figure size 640x480 with 1 Axes>"
            ],
            "image/png": "[encoded data removed]"
          },
          "metadata": {}
        }
      ]
    },
    {
      "cell_type": "code",
      "source": [],
      "metadata": {
        "id": "Np116ruzxJzY"
      },
      "execution_count": 39,
      "outputs": []
    }
  ]
}