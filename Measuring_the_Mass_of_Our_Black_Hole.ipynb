{
  "nbformat": 4,
  "nbformat_minor": 0,
  "metadata": {
    "colab": {
      "provenance": [],
      "authorship_tag": "ABX9TyPcrDghEb0SMFx5VfDsEueo",
      "include_colab_link": true
    },
    "kernelspec": {
      "name": "python3",
      "display_name": "Python 3"
    },
    "language_info": {
      "name": "python"
    }
  },
  "cells": [
    {
      "cell_type": "markdown",
      "metadata": {
        "id": "view-in-github",
        "colab_type": "text"
      },
      "source": [
        "<a href=\"https://colab.research.google.com/github/liamedeiros/Newton2BlackHoles/blob/main/Measuring_the_Mass_of_Our_Black_Hole.ipynb\" target=\"_parent\"><img src=\"https://colab.research.google.com/assets/colab-badge.svg\" alt=\"Open In Colab\"/></a>"
      ]
    },
    {
      "cell_type": "markdown",
      "source": [
        "#Measuring the Mass of Our Black Hole\n",
        "\n",
        "This notebook primarily follows the Day 3 curriculum of [\"From Newton to Black Holes\"](https://www.dropbox.com/s/kbfx7bq4eukopuz/Lesson%20Plan_From%20Newton%20to%20Black%20Holes.pdf?dl=0), which was developed as part of the NSF funded project [Black Hole PIRE](https://bhpire.arizona.edu/).\n",
        "\n",
        "Learning objectives for this notebook:\n",
        "* Apply Kepler's laws to real astronomical data (the orbits of stars around the galactic center black hole)\n",
        "\n",
        "* Measure the mass of the black hole in the center of the Milky Way\n",
        "\n",
        "* Use the measured mass to estimate the size of the black hole shadow that the Event Horizon Telescope will observe.\n",
        "\n",
        "\n",
        "This notebook assumes that you have completed the \"Introduction to basic programming and plotting\" notebook and the \"Measuring the mass of the sun\" notebook.\n",
        "\n",
        "\n",
        "Before we begin, please compile the cell below to load in the necessary libraries."
      ],
      "metadata": {
        "id": "Xe4zuL8Ztwca"
      }
    },
    {
      "cell_type": "code",
      "source": [
        "import numpy as np\n",
        "import matplotlib.pyplot as plt\n",
        "import scipy\n",
        "import matplotlib\n",
        "# from matplotlib import rcParams\n",
        "from matplotlib import rc\n",
        "%matplotlib inline\n",
        "!apt-get update\n",
        "!apt install cm-super\n",
        "!sudo apt install cm-super dvipng texlive-latex-extra texlive-latex-recommended\n",
        "matplotlib.rcParams['text.usetex'] = True\n",
        "matplotlib.rcParams['font.family'] = 'serif'"
      ],
      "metadata": {
        "id": "tPNz16ZOt-qQ"
      },
      "execution_count": null,
      "outputs": []
    },
    {
      "cell_type": "markdown",
      "source": [
        "In the notebook \"Measuring the Mass of Our Sun\", you explored Kepler's laws of planetary motion, applied it to the orbits of the planets in our Solar System, and used it to measure the mass of our Sun. Here is a quick review:\n",
        "\n",
        "Kepler's 3rd law states that the cube of the distance between a planet and the Sun (the orbital separation) is proportional to the square of the time it takes the planet to complete one full orbit (the orbital period). In other words,\n",
        "\n",
        "$a^3 = \\left( \\frac{GM}{4\\pi^2}\\right)T^2$\n",
        "\n",
        "Here $a$ is the orbital separation of the planet, $T$ is the orbital period, $M$ is the mass of the Sun, and $G=6.67\\times10^{-11}\\mathrm{m}^3\\mathrm{kg}^{-1}\\mathrm{s}^{-2}$ is the gravitational constant.\n",
        "\n",
        "This expression suggests that, if we were to plot the cubes of the orbital separations of the planets in the Solar System against the square of their orbital periods, all points will line up on a single line that goes through the origin. Moreover, the slope of the line will be proportional to the mass of the Sun.\n",
        "This is shown on the figure on the right for the inner planets (from Mercury to Mars). The slope of the line that goes through the data points is proportional to the mass of the Sun.  \n",
        "We can use the slope of the line to measure the mass of the Sun and find\n",
        "\n",
        "$M_{\\mathrm{sun}} = 1.99 \\mathrm{\\,octillion\\, metric\\, tons}$\n",
        "\n",
        "(one octillion is equal to 1 billion billion billion or $10^27=1,000,000,000,000,000,000,000,000,000$ in scientific notation)\n",
        "\n",
        "Under Newton's assumption of Universal Gravitation, Kepler's 3rd law should be valid for all orbiting objects. We can, therefore, apply the same law to the data of stars that orbit Sgr A*, the black hole in the center of the Milky Way, in order to measure the mass of the black hole. To do this, it is better to use units that are more appropriate for the distances and masses that one measures near the galactic center.\n",
        "\n",
        "\n",
        "If we express the orbital separation of stars from the central black hole in hundreds of astronomical units (one astronomical unit or AU is defined as the average distance between the Sun and the Earth, about 150 million km), their orbital periods in Earth years (365 days), and the mass of the black hole in millions of solar masses, then Kepler's 3rd law takes the form\n",
        "\n",
        "\n",
        "$\\left(\\frac{a}{100\\mathrm{AU}}\\right)^3 = \\left( \\frac{M}{\\mathrm{million \\, solar \\, masses}}\\right)\\left( \\frac{T}{\\mathrm{year}}\\right)^2$\n",
        "\n",
        "Astronomers at the Max-Planck-Institut für extraterrestrische Physik (MPE) in Germany and at the University of California, Los Angeles (UCLA) in the USA have been monitoring the positions of stars that orbit Sgr A*. They use large telescopes in Hawai'i and Chile and adaptive optics that allow them to correct for the atmospheric variations in the positions of the stars (the twinkling of the stars).\n",
        "\n",
        "The figure below shows one of the images taken by the UCLA group where they superimposed the positions (white dots along the orbits) of some of the stars as measured between 1995 and 2014. Andrea Ghez (UCLA) and Reinhard Genzel (MPE) [won the 2020 Nobel Prize in Physics](https://www.nobelprize.org/prizes/physics/2020/press-release/) for this work!\n",
        "\n",
        "![S Star Orbits](https://github.com/liamedeiros/Newton2BlackHoles/blob/main/S_star_orbits.jpg?raw=1)\n",
        "\n",
        "\n"
      ],
      "metadata": {
        "id": "gtjpvFKM3mHT"
      }
    },
    {
      "cell_type": "markdown",
      "source": [
        "The following table provides the orbital separations (in astronomical units) and the orbital periods (in years) of the innermost ten stars in orbit around Sgr A* as measured by the MPE group. You can find the 2009 peer-reviewed publication that reported these measurements [here](https://iopscience.iop.org/article/10.3847/1538-4357/aa5c41/pdf).\n",
        "\n",
        "Star | Period (T) [years] | orbital Separation (a) [AU]\n",
        "-----|--------------------|------------------\n",
        "S55  | 12.8               | 8.82\n",
        "S2   | 16.0               | 10.3\n",
        "S38  | 19.2               | 11.6\n",
        "S21  | 37.0               | 17.9\n",
        "S18  | 41.9               | 19.4\n",
        "S23  | 45.8               | 20.7\n",
        "S13  | 49.0               | 21.6\n",
        "S9   | 51.3               | 22.3\n",
        "S14  | 55.3               | 23.4\n",
        "S12  | 58.9               | 24.5\n"
      ],
      "metadata": {
        "id": "PtjzK1GH7I3t"
      }
    },
    {
      "cell_type": "markdown",
      "source": [
        "In the cell below plot the results of exercise 1 in day 5 of the curriculum. Define an array for the period of the stars orbiting around the black hole in the center of our galaxy, called Sagittarius A* (Sgr A*) for short. Define another array that will contain the separation of these stars. Then plot the period as a function of the separation."
      ],
      "metadata": {
        "id": "ryMBxDXpVGDu"
      }
    },
    {
      "cell_type": "code",
      "source": [
        "# Solution!\n",
        "\n",
        "period = np.array([12.8, 16.0, 19.2, 37.0, 41.9, 45.8, 49.0, 51.3, 55.3, 58.9])\n",
        "separation = np.array([8.82, 10.3, 11.6, 17.9, 19.4, 20.7, 21.6, 22.3, 23.4, 24.5])\n",
        "\n",
        "plt.plot(separation, period)\n",
        "plt.scatter(separation, period)\n",
        "\n",
        "plt.xlabel('Separation (AU)', fontsize=14)\n",
        "plt.xlabel('Period (year)', fontsize=14)\n",
        "plt.grid()"
      ],
      "metadata": {
        "colab": {
          "base_uri": "https://localhost:8080/",
          "height": 250
        },
        "id": "ce-qfNfsuBPP",
        "outputId": "6097110b-f007-40af-a95f-f632c8bbd459"
      },
      "execution_count": 1,
      "outputs": [
        {
          "output_type": "error",
          "ename": "NameError",
          "evalue": "ignored",
          "traceback": [
            "\u001b[0;31m---------------------------------------------------------------------------\u001b[0m",
            "\u001b[0;31mNameError\u001b[0m                                 Traceback (most recent call last)",
            "\u001b[0;32m<ipython-input-1-8402dd571abc>\u001b[0m in \u001b[0;36m<cell line: 3>\u001b[0;34m()\u001b[0m\n\u001b[1;32m      1\u001b[0m \u001b[0;31m# Solution!\u001b[0m\u001b[0;34m\u001b[0m\u001b[0;34m\u001b[0m\u001b[0m\n\u001b[1;32m      2\u001b[0m \u001b[0;34m\u001b[0m\u001b[0m\n\u001b[0;32m----> 3\u001b[0;31m \u001b[0mperiod\u001b[0m \u001b[0;34m=\u001b[0m \u001b[0mnp\u001b[0m\u001b[0;34m.\u001b[0m\u001b[0marray\u001b[0m\u001b[0;34m(\u001b[0m\u001b[0;34m[\u001b[0m\u001b[0;36m12.8\u001b[0m\u001b[0;34m,\u001b[0m \u001b[0;36m16.0\u001b[0m\u001b[0;34m,\u001b[0m \u001b[0;36m19.2\u001b[0m\u001b[0;34m,\u001b[0m \u001b[0;36m37.0\u001b[0m\u001b[0;34m,\u001b[0m \u001b[0;36m41.9\u001b[0m\u001b[0;34m,\u001b[0m \u001b[0;36m45.8\u001b[0m\u001b[0;34m,\u001b[0m \u001b[0;36m49.0\u001b[0m\u001b[0;34m,\u001b[0m \u001b[0;36m51.3\u001b[0m\u001b[0;34m,\u001b[0m \u001b[0;36m55.3\u001b[0m\u001b[0;34m,\u001b[0m \u001b[0;36m58.9\u001b[0m\u001b[0;34m]\u001b[0m\u001b[0;34m)\u001b[0m\u001b[0;34m\u001b[0m\u001b[0;34m\u001b[0m\u001b[0m\n\u001b[0m\u001b[1;32m      4\u001b[0m \u001b[0mseparation\u001b[0m \u001b[0;34m=\u001b[0m \u001b[0mnp\u001b[0m\u001b[0;34m.\u001b[0m\u001b[0marray\u001b[0m\u001b[0;34m(\u001b[0m\u001b[0;34m[\u001b[0m\u001b[0;36m8.82\u001b[0m\u001b[0;34m,\u001b[0m \u001b[0;36m10.3\u001b[0m\u001b[0;34m,\u001b[0m \u001b[0;36m11.6\u001b[0m\u001b[0;34m,\u001b[0m \u001b[0;36m17.9\u001b[0m\u001b[0;34m,\u001b[0m \u001b[0;36m19.4\u001b[0m\u001b[0;34m,\u001b[0m \u001b[0;36m20.7\u001b[0m\u001b[0;34m,\u001b[0m \u001b[0;36m21.6\u001b[0m\u001b[0;34m,\u001b[0m \u001b[0;36m22.3\u001b[0m\u001b[0;34m,\u001b[0m \u001b[0;36m23.4\u001b[0m\u001b[0;34m,\u001b[0m \u001b[0;36m24.5\u001b[0m\u001b[0;34m]\u001b[0m\u001b[0;34m)\u001b[0m\u001b[0;34m\u001b[0m\u001b[0;34m\u001b[0m\u001b[0m\n\u001b[1;32m      5\u001b[0m \u001b[0;34m\u001b[0m\u001b[0m\n",
            "\u001b[0;31mNameError\u001b[0m: name 'np' is not defined"
          ]
        }
      ]
    },
    {
      "cell_type": "markdown",
      "source": [],
      "metadata": {
        "id": "01QLHm-DWgEA"
      }
    },
    {
      "cell_type": "code",
      "source": [
        "# Solution!\n",
        "\n",
        "period = np.array([16, 51.3, 58.9, 49.0, 55.3, 41.9, 37.0, 45.8, 19.2, 12.8])\n",
        "separation = np.array([10.3, 22.3, 24.5, 21.6, 23.4, 19.4, 17.9, 20.7, 11.6, 8.82])\n",
        "\n",
        "separation_cubed = (separation)**3\n",
        "period_squared = period**2\n",
        "\n",
        "plt.scatter(separation_cubed, period_squared)\n",
        "\n",
        "plt.xlabel('Separation Cubed (AU$^3$)', fontsize=14)\n",
        "plt.ylabel('Period Squared (year$^2$)', fontsize=14)\n",
        "plt.grid()"
      ],
      "metadata": {
        "colab": {
          "base_uri": "https://localhost:8080/",
          "height": 454
        },
        "id": "tqanAnifWRw7",
        "outputId": "550004a4-a109-4e29-9a22-bfae338c5e10"
      },
      "execution_count": null,
      "outputs": [
        {
          "output_type": "display_data",
          "data": {
            "text/plain": [
              "<Figure size 640x480 with 1 Axes>"
            ],
            "image/png": "[encoded data removed]"
          },
          "metadata": {}
        }
      ]
    },
    {
      "cell_type": "markdown",
      "source": [],
      "metadata": {
        "id": "LOOfK9RzW1e7"
      }
    },
    {
      "cell_type": "code",
      "source": [
        "# Solution!\n",
        "\n",
        "slope, intercept, r_value, p_value, std_err = scipy.stats.linregress(period_squared, separation_cubed)\n",
        "print(slope)"
      ],
      "metadata": {
        "colab": {
          "base_uri": "https://localhost:8080/"
        },
        "id": "zk8ZaSyyW2A3",
        "outputId": "9a84af21-05bd-4947-aa87-48537dffb259"
      },
      "execution_count": null,
      "outputs": [
        {
          "output_type": "stream",
          "name": "stdout",
          "text": [
            "4.2159959563570615\n"
          ]
        }
      ]
    },
    {
      "cell_type": "markdown",
      "source": [],
      "metadata": {
        "id": "lqShtVG9XQDH"
      }
    },
    {
      "cell_type": "code",
      "source": [
        "# Solution!\n",
        "\n",
        "x_fit = np.arange(100)/6000\n",
        "y_fit = slope*x_fit + intercept\n",
        "\n",
        "plt.plot(separation_cubed, period_squared, label='points')\n",
        "plt.scatter(separation_cubed, period_squared)\n",
        "\n",
        "# plt.xlim([0, 4])\n",
        "# plt.ylim([0, 4])\n",
        "\n",
        "plt.plot(x_fit, y_fit, label='fit') # this commmand plots a line that shows the best fit to our points\n",
        "\n",
        "plt.xlabel('Separation Cubed (AU$^2$)', fontsize=14)\n",
        "plt.ylabel('Period Squared (year$^3$)', fontsize=14)\n",
        "plt.grid()\n",
        "plt.legend()"
      ],
      "metadata": {
        "colab": {
          "base_uri": "https://localhost:8080/",
          "height": 472
        },
        "id": "lPqKuj8kZak5",
        "outputId": "fe67d4e5-48ee-452e-e311-a7a584743265"
      },
      "execution_count": null,
      "outputs": [
        {
          "output_type": "execute_result",
          "data": {
            "text/plain": [
              "<matplotlib.legend.Legend at 0x7debe7ec0760>"
            ]
          },
          "metadata": {},
          "execution_count": 52
        },
        {
          "output_type": "display_data",
          "data": {
            "text/plain": [
              "<Figure size 640x480 with 1 Axes>"
            ],
            "image/png": "[encoded data removed]"
          },
          "metadata": {}
        }
      ]
    },
    {
      "cell_type": "markdown",
      "source": [],
      "metadata": {
        "id": "wsdu8Lp6Zasx"
      }
    },
    {
      "cell_type": "code",
      "source": [
        "# Solution!\n",
        "\n",
        "mass_of_SgrA = (slope) # this is in units of octillion ton\n",
        "print('mass of Sgr A* is: ', mass_of_SgrA, 'million solar masses')"
      ],
      "metadata": {
        "colab": {
          "base_uri": "https://localhost:8080/"
        },
        "id": "ePwyTl5rWnGs",
        "outputId": "72b5ee2a-a3d4-49d8-83bb-7ef55746f51a"
      },
      "execution_count": null,
      "outputs": [
        {
          "output_type": "stream",
          "name": "stdout",
          "text": [
            "mass of Sgr A* is:  4.2159959563570615 million solar masses\n"
          ]
        }
      ]
    },
    {
      "cell_type": "code",
      "source": [],
      "metadata": {
        "id": "MxSsll46XviV"
      },
      "execution_count": null,
      "outputs": []
    },
    {
      "cell_type": "code",
      "source": [],
      "metadata": {
        "id": "hQrmZsZYgehw"
      },
      "execution_count": null,
      "outputs": []
    },
    {
      "cell_type": "code",
      "source": [],
      "metadata": {
        "id": "z4b--UGSgel_"
      },
      "execution_count": null,
      "outputs": []
    },
    {
      "cell_type": "code",
      "source": [
        "separation_arcsec = np.array([0.595, 0.1255, 0.3570, 0.6574, 0.4047, 0.2724, 0.2987, 0.2641])\n",
        "period = np.array([166, 16, 77, 192, 92.9, 51.3, 58.9, 49, ])"
      ],
      "metadata": {
        "id": "Uf3GT3I0geoa"
      },
      "execution_count": null,
      "outputs": []
    },
    {
      "cell_type": "code",
      "source": [
        "separation_kpc = 8.0*np.tan((separation_arcsec/60/60)/180*np.pi)\n",
        "separation_kpc"
      ],
      "metadata": {
        "colab": {
          "base_uri": "https://localhost:8080/"
        },
        "id": "146TN-xRgeqY",
        "outputId": "d39552ee-ca77-4cce-ad0f-496e3eba483b"
      },
      "execution_count": null,
      "outputs": [
        {
          "output_type": "execute_result",
          "data": {
            "text/plain": [
              "array([2.30771312e-05, 4.86752936e-06, 1.38462787e-05, 2.54973211e-05,\n",
              "       1.56963277e-05, 1.05650597e-05, 1.15851077e-05, 1.02431435e-05])"
            ]
          },
          "metadata": {},
          "execution_count": 35
        }
      ]
    },
    {
      "cell_type": "code",
      "source": [
        "separation_AU = separation_kpc*2.063*10**8\n",
        "separation_AU"
      ],
      "metadata": {
        "colab": {
          "base_uri": "https://localhost:8080/"
        },
        "id": "E71mRsF7gesg",
        "outputId": "707dbbea-8c6d-4f07-bf30-3e31c70d68e2"
      },
      "execution_count": null,
      "outputs": [
        {
          "output_type": "execute_result",
          "data": {
            "text/plain": [
              "array([4760.81217087, 1004.17130663, 2856.48730252, 5260.09734644,\n",
              "       3238.15241268, 2179.5718241 , 2390.00772342, 2113.16049466])"
            ]
          },
          "metadata": {},
          "execution_count": 36
        }
      ]
    },
    {
      "cell_type": "code",
      "source": [
        "separation_AU3 = separation_AU**3\n",
        "period2 = period**2\n",
        "\n",
        "\n",
        "plt.plot(separation_AU3, period2)\n",
        "plt.scatter(separation_AU3, period2)"
      ],
      "metadata": {
        "colab": {
          "base_uri": "https://localhost:8080/",
          "height": 463
        },
        "id": "vNhaLJG7geua",
        "outputId": "a9ee2d05-f7b8-44bf-b7a4-467fba9811e2"
      },
      "execution_count": null,
      "outputs": [
        {
          "output_type": "execute_result",
          "data": {
            "text/plain": [
              "<matplotlib.collections.PathCollection at 0x7debe80e7280>"
            ]
          },
          "metadata": {},
          "execution_count": 38
        },
        {
          "output_type": "display_data",
          "data": {
            "text/plain": [
              "<Figure size 640x480 with 1 Axes>"
            ],
            "image/png": "[encoded data removed]"
          },
          "metadata": {}
        }
      ]
    },
    {
      "cell_type": "code",
      "source": [
        "slope, intercept, r_value, p_value, std_err = scipy.stats.linregress(separation_AU3, period2)\n",
        "print(slope)"
      ],
      "metadata": {
        "colab": {
          "base_uri": "https://localhost:8080/"
        },
        "id": "m0AXlwEdh9Ir",
        "outputId": "fc5c3b28-58b4-4ddf-de9c-fa062c34f481"
      },
      "execution_count": null,
      "outputs": [
        {
          "output_type": "stream",
          "name": "stdout",
          "text": [
            "2.5393029589974313e-07\n"
          ]
        }
      ]
    },
    {
      "cell_type": "code",
      "source": [
        "1/slope"
      ],
      "metadata": {
        "colab": {
          "base_uri": "https://localhost:8080/"
        },
        "id": "O5_98qzGiGEs",
        "outputId": "bd52e839-369a-450c-95b9-c34745657960"
      },
      "execution_count": null,
      "outputs": [
        {
          "output_type": "execute_result",
          "data": {
            "text/plain": [
              "3938088.5863056704"
            ]
          },
          "metadata": {},
          "execution_count": 40
        }
      ]
    },
    {
      "cell_type": "code",
      "source": [],
      "metadata": {
        "id": "3KGV1GgZizly"
      },
      "execution_count": null,
      "outputs": []
    }
  ]
}