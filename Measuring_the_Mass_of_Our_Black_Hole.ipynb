{
  "nbformat": 4,
  "nbformat_minor": 0,
  "metadata": {
    "colab": {
      "provenance": [],
      "authorship_tag": "ABX9TyNV/kiLHwPP/4Q2tm7A83qJ",
      "include_colab_link": true
    },
    "kernelspec": {
      "name": "python3",
      "display_name": "Python 3"
    },
    "language_info": {
      "name": "python"
    }
  },
  "cells": [
    {
      "cell_type": "markdown",
      "metadata": {
        "id": "view-in-github",
        "colab_type": "text"
      },
      "source": [
        "<a href=\"https://colab.research.google.com/github/liamedeiros/Newton2BlackHoles/blob/main/Measuring_the_Mass_of_Our_Black_Hole.ipynb\" target=\"_parent\"><img src=\"https://colab.research.google.com/assets/colab-badge.svg\" alt=\"Open In Colab\"/></a>"
      ]
    },
    {
      "cell_type": "markdown",
      "source": [
        "#Measuring the Mass of Our Black Hole\n",
        "\n",
        "This notebook primarily follows the Day 3 curriculum of [\"From Newton to Black Holes\"](https://www.dropbox.com/s/kbfx7bq4eukopuz/Lesson%20Plan_From%20Newton%20to%20Black%20Holes.pdf?dl=0), which was developed as part of the NSF funded project [Black Hole PIRE](https://bhpire.arizona.edu/).\n",
        "\n",
        "Learning objectives for this notebook:\n",
        "* Apply Kepler's laws to real astronomical data (the orbits of stars around the galactic center black hole)\n",
        "\n",
        "* Measure the mass of the black hole in the center of the Milky Way\n",
        "\n",
        "* Use the measured mass to estimate the size of the black hole shadow that the Event Horizon Telescope will observe.\n",
        "\n",
        "\n",
        "This notebook assumes that you have completed the \"Introduction to basic programming and plotting\" notebook and the \"Measuring the mass of the sun\" notebook.\n",
        "\n",
        "\n",
        "Before we begin, please compile the cell below to load in the necessary libraries."
      ],
      "metadata": {
        "id": "Xe4zuL8Ztwca"
      }
    },
    {
      "cell_type": "code",
      "source": [
        "import numpy as np\n",
        "import matplotlib.pyplot as plt\n",
        "import scipy\n",
        "import matplotlib\n",
        "# from matplotlib import rcParams\n",
        "from matplotlib import rc\n",
        "%matplotlib inline\n",
        "!apt-get update\n",
        "!apt install cm-super\n",
        "!sudo apt install cm-super dvipng texlive-latex-extra texlive-latex-recommended\n",
        "matplotlib.rcParams['text.usetex'] = True\n",
        "matplotlib.rcParams['font.family'] = 'serif'"
      ],
      "metadata": {
        "id": "tPNz16ZOt-qQ"
      },
      "execution_count": null,
      "outputs": []
    },
    {
      "cell_type": "markdown",
      "source": [
        "In the notebook \"Measuring the Mass of Our Sun\", you explored Kepler's laws of planetary motion, applied it to the orbits of the planets in our Solar System, and used it to measure the mass of our Sun. Here is a quick review:\n",
        "\n",
        "Kepler's 3rd law states that the cube of the distance between a planet and the Sun (the orbital separation) is proportional to the square of the time it takes the planet to complete one full orbit (the orbital period). In other words,\n",
        "\n",
        "$a^3 = \\left( \\frac{GM}{4\\pi^2}\\right)T^2$\n",
        "\n",
        "Here $a$ is the orbital separation of the planet, $T$ is the orbital period, $M$ is the mass of the Sun, and $G=6.67\\times10^{-11}\\mathrm{m}^3\\mathrm{kg}^{-1}\\mathrm{s}^{-2}$ is the gravitational constant.\n",
        "\n",
        "This expression suggests that, if we were to plot the cubes of the orbital separations of the planets in the Solar System against the square of their orbital periods, all points will line up on a single line that goes through the origin. Moreover, the slope of the line will be proportional to the mass of the Sun. The slope of the line that goes through the data points is proportional to the mass of the Sun.  \n",
        "We can use the slope of the line to measure the mass of the Sun and find\n",
        "\n",
        "$M_{\\mathrm{sun}} = 1.99 \\mathrm{\\,octillion\\, metric\\, tons}$\n",
        "\n",
        "(one octillion is equal to 1 billion billion billion or $10^27=1,000,000,000,000,000,000,000,000,000$ in scientific notation)\n",
        "\n",
        "Under Newton's assumption of Universal Gravitation, Kepler's 3rd law should be valid for all orbiting objects. We can, therefore, apply the same law to the data of stars that orbit Sgr A*, the black hole in the center of the Milky Way, in order to measure the mass of the black hole. To do this, it is better to use units that are more appropriate for the distances and masses that one measures near the galactic center.\n",
        "\n",
        "\n",
        "If we express the orbital separation of stars from the central black hole in hundreds of astronomical units (one astronomical unit or AU is defined as the average distance between the Sun and the Earth, about 150 million km), their orbital periods in Earth years (365 days), and the mass of the black hole in millions of solar masses, then Kepler's 3rd law takes the form\n",
        "\n",
        "\n",
        "$\\left(\\frac{a}{100\\mathrm{AU}}\\right)^3 = \\left( \\frac{M}{\\mathrm{million \\, solar \\, masses}}\\right)\\left( \\frac{T}{\\mathrm{year}}\\right)^2$\n",
        "\n",
        "Astronomers at the Max-Planck-Institut für extraterrestrische Physik (MPE) in Germany and at the University of California, Los Angeles (UCLA) in the USA have been monitoring the positions of stars that orbit Sgr A*. They use large telescopes in Hawai'i and Chile and adaptive optics that allow them to correct for the atmospheric variations in the positions of the stars (the twinkling of the stars).\n",
        "\n",
        "The figure below shows one of the images taken by the UCLA group where they superimposed the positions (white dots along the orbits) of some of the stars as measured between 1995 and 2014. Andrea Ghez (UCLA) and Reinhard Genzel (MPE) [won the 2020 Nobel Prize in Physics](https://www.nobelprize.org/prizes/physics/2020/press-release/) for this work!\n",
        "\n",
        "![S Star Orbits](https://github.com/liamedeiros/Newton2BlackHoles/blob/main/S_star_orbits.jpg?raw=1)\n",
        "\n",
        "\n"
      ],
      "metadata": {
        "id": "gtjpvFKM3mHT"
      }
    },
    {
      "cell_type": "markdown",
      "source": [
        "The following table provides the orbital separations (in hundreds of astronomical units) and the orbital periods (in years) of the innermost ten stars in orbit around Sgr A* as measured by the MPE group. You can find the 2009 peer-reviewed publication that reported these measurements [here](https://iopscience.iop.org/article/10.3847/1538-4357/aa5c41/pdf).\n",
        "\n",
        "Star | Period (T) [years] | orbital Separation (a) [100 AU]\n",
        "-----|--------------------|------------------\n",
        "S55  | 12.8               | 8.82\n",
        "S2   | 16.0               | 10.3\n",
        "S38  | 19.2               | 11.6\n",
        "S21  | 37.0               | 17.9\n",
        "S18  | 41.9               | 19.4\n",
        "S23  | 45.8               | 20.7\n",
        "S13  | 49.0               | 21.6\n",
        "S9   | 51.3               | 22.3\n",
        "S14  | 55.3               | 23.4\n",
        "S12  | 58.9               | 24.5"
      ],
      "metadata": {
        "id": "278nlhp8f0dY"
      }
    },
    {
      "cell_type": "markdown",
      "source": [
        "1. **In the cell below define an array that will contain the period of the stars (period), and a second array that will contain the average separation between the Sgr A* and the star (separation). Plot the separation along the  𝑦-axis and the period along the  𝑥-axis. Remember to add a grid and label your axes.**\n"
      ],
      "metadata": {
        "id": "ryMBxDXpVGDu"
      }
    },
    {
      "cell_type": "code",
      "source": [
        "period = np.array([])\n",
        "separation =\n",
        "\n",
        "\n",
        "plt.ylabel('Separation (AU)', fontsize=14)\n",
        "plt.xlabel('Period (year)', fontsize=14)\n",
        "plt.grid()"
      ],
      "metadata": {
        "id": "ce-qfNfsuBPP"
      },
      "execution_count": null,
      "outputs": []
    },
    {
      "cell_type": "markdown",
      "source": [
        "2. **Now define a new array that will contain the period squared (```period_squared```) and another new array that will contain the separation cubed (```separation_cubed```). Plot the period squared on the  𝑥-axis and the separation cubed along the  𝑦-axis. Remember to add a grid and label your axes. Remember that to square the variable ```a``` you would write** ```a**2```**. Do the points fall on a line, as predicted by Kepler's 3rd law?**"
      ],
      "metadata": {
        "id": "zkGafKTXf6IX"
      }
    },
    {
      "cell_type": "code",
      "source": [],
      "metadata": {
        "id": "tqanAnifWRw7"
      },
      "execution_count": null,
      "outputs": []
    },
    {
      "cell_type": "markdown",
      "source": [],
      "metadata": {
        "id": "LOOfK9RzW1e7"
      }
    },
    {
      "cell_type": "markdown",
      "source": [
        "3. **Now we will use the same function that we used in the notebook \"Introduction to basic programming and plotting\" to find the slope of the line. Rememeber that we are fitting the equation  $y=mx+b$ and finding the best-fit values for the slope ($m$) and intercept ($b$). The function we will use is ```scipy.stats.linregress```, feel free to look back at the other notebook(s) to remember how to use this function. In the cell below use this function to fit a line to the points we plotted above and print out the slope of the line.**"
      ],
      "metadata": {
        "id": "dGv1YJjIhTKp"
      }
    },
    {
      "cell_type": "code",
      "source": [
        "slope, intercept, r_value, p_value, std_err ="
      ],
      "metadata": {
        "id": "zk8ZaSyyW2A3"
      },
      "execution_count": null,
      "outputs": []
    },
    {
      "cell_type": "markdown",
      "source": [
        "4. **Let's check if the fit looks good compared to our data points by plotting the best-fit line over the points. Copy the code from exercise 8 below and add a line defined by $y=mx+b$ where $m$ and $b$ are given by the fit. You can reference the \"Introduction to programming\" notebook for this if you'd like.**"
      ],
      "metadata": {
        "id": "lqShtVG9XQDH"
      }
    },
    {
      "cell_type": "code",
      "source": [
        "x_fit = np.arange(3500) # this will create an array with the range of x-values you will need for this\n",
        "y_fit ="
      ],
      "metadata": {
        "id": "lPqKuj8kZak5"
      },
      "execution_count": null,
      "outputs": []
    },
    {
      "cell_type": "markdown",
      "source": [
        "5. **According to the equations above (with the appropriate units), the slope of the line above is equal to:**\n",
        "\n",
        "$ \\left( \\frac{M}{\\mathrm{million \\, solar \\, masses}}\\right)$.\n",
        "\n",
        "**What is the value for the mass of the black hole in the center of the Milky Way that is consistent with the slope that you have measured?**\n",
        "\n"
      ],
      "metadata": {
        "id": "wsdu8Lp6Zasx"
      }
    },
    {
      "cell_type": "code",
      "source": [
        "mass_of_SgrA =\n",
        "print('mass of Sgr A* is: ', mass_of_SgrA, 'million solar masses')"
      ],
      "metadata": {
        "id": "ePwyTl5rWnGs"
      },
      "execution_count": null,
      "outputs": []
    },
    {
      "cell_type": "markdown",
      "source": [
        "## Congratulations! You have used astronomical data to measure the mass of the black hole in the center of the Milky way!\n"
      ],
      "metadata": {
        "id": "pZld7quMjOO8"
      }
    },
    {
      "cell_type": "markdown",
      "source": [
        "Now that we've measured the mass of the black hole using Kepler's 3rd Law, we will compare our mass measurement to the EHT's image of Sgr A*.\n",
        "\n",
        "If Einstein's theory of General Relativity (GR, the theory that explains how gravity works) is correct, then there is a very specific prediction for the size of the ring in the image, based on the mass of the black hole. We will now load in the EHT's image of Sgr A* below. **Execute the three cells below.** Your should see the image of Sgr A* that the EHT published in May of 2022.\n",
        "\n",
        "\n",
        "\n",
        "\n",
        "\n",
        "\n",
        "\n",
        "\n",
        "\n",
        "\n"
      ],
      "metadata": {
        "id": "Wbeao9FIjS89"
      }
    },
    {
      "cell_type": "code",
      "source": [
        "# the function below will open the file that contains the image of Sgr A*\n",
        "def open_hdf5(file_name):\n",
        "    import h5py\n",
        "    file    = h5py.File(file_name, 'r')\n",
        "    name    = list(file.keys())[0]\n",
        "    d       = file[str(name)]\n",
        "    result = d[:]\n",
        "    file.close()\n",
        "    return(result)"
      ],
      "metadata": {
        "id": "PAi4_0hykszb"
      },
      "execution_count": 18,
      "outputs": []
    },
    {
      "cell_type": "code",
      "source": [
        "!git clone https://github.com/liamedeiros/Newton2BlackHoles.git # this line of code makes it so that your google colab session can open the file"
      ],
      "metadata": {
        "id": "Pba0bwiT-G06"
      },
      "execution_count": null,
      "outputs": []
    },
    {
      "cell_type": "code",
      "source": [
        "FoV_SgrA_AU = 1.2444597828894675 # Field of view of the Sgr A* image, in units of AU\n",
        "\n",
        "SgrA_image = open_hdf5('Newton2BlackHoles/SgrA_image.h5')\n",
        "plt.imshow(SgrA_image, extent =[FoV_SgrA_AU/2., -FoV_SgrA_AU/2., -FoV_SgrA_AU/2., FoV_SgrA_AU/2.], cmap='afmhot', interpolation=\"bicubic\", vmax=np.max(SgrA_image))\n",
        "\n",
        "print(FoV_SgrA_AU)\n"
      ],
      "metadata": {
        "id": "8IqXUELWmiWy"
      },
      "execution_count": null,
      "outputs": []
    },
    {
      "cell_type": "markdown",
      "source": [
        "Now we need to calculate the size that the bright ring of emission should have if Einstein's theory is correct.\n",
        "\n",
        "\n",
        "The size of the black hole shadow of the black hole will be proportional to its mass. According to the Theory of General Relativity, the diameter of the shadow is equal to\n",
        "\n",
        "$\\mathrm{diameter} = 10\\left( \\frac{GM}{c^2}\\right)$\n",
        "\n",
        "Here $M$ is the mass of the black hole, $G$ is the gravitational constant, and c is the speed of light ($c=299,792,458\\mathrm{\\,m/s}$).\n",
        "\n",
        "6. **In the code below plug in the value for the mass of Sgr A* (in units of millions of solar masses) that you calculated above and solve for the size (in AU) that the blakc hole shadow should have, if General Relativity is correct.**"
      ],
      "metadata": {
        "id": "RaKK19qbkpQU"
      }
    },
    {
      "cell_type": "code",
      "source": [
        "BHmass =      # here plug in the value for the mass that you calculated, in units of millions of solar masses.\n",
        "\n",
        "diameter_shadow_AU = 0.099*BHmass # here the number 0.099 is equal to 10G(1 million solar masses)/c^2 in units of AU\n",
        "\n"
      ],
      "metadata": {
        "id": "MvdXsa8_AHDj"
      },
      "execution_count": 34,
      "outputs": []
    },
    {
      "cell_type": "markdown",
      "source": [
        "7. **We will now plot a circle on top of the image of Sgr A*. The radius of this circle will be given by the mass that you found above. Execute this cell. Does the size of the circle (based on the mass you measured) match the size of the ring in the image?**"
      ],
      "metadata": {
        "id": "Fz-d_HbgBI2M"
      }
    },
    {
      "cell_type": "code",
      "source": [
        "radius = diameter_shadow_AU/2.\n",
        "\n",
        "# The line below will plot the image of Sgr A*\n",
        "plt.imshow(SgrA_image, extent =[FoV_SgrA_AU/2., -FoV_SgrA_AU/2., -FoV_SgrA_AU/2., FoV_SgrA_AU/2.], cmap='afmhot', interpolation=\"bicubic\", vmax=np.max(SgrA_image))\n",
        "\n",
        "# The lines of code below generate a circle centered at (0, 0), with radius=1, and plots it\n",
        "circle = plt.Circle((0, 0), radius, fill=False, color='green')\n",
        "plt.gca().add_patch(circle)\n",
        "print(radius)"
      ],
      "metadata": {
        "id": "1m2JRx6iBgps"
      },
      "execution_count": null,
      "outputs": []
    }
  ]
}