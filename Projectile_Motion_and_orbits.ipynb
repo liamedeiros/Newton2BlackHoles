{
  "nbformat": 4,
  "nbformat_minor": 0,
  "metadata": {
    "colab": {
      "provenance": [],
      "authorship_tag": "ABX9TyNtWCImyWDCSQ32CKHLKeYp",
      "include_colab_link": true
    },
    "kernelspec": {
      "name": "python3",
      "display_name": "Python 3"
    },
    "language_info": {
      "name": "python"
    }
  },
  "cells": [
    {
      "cell_type": "markdown",
      "metadata": {
        "id": "view-in-github",
        "colab_type": "text"
      },
      "source": [
        "<a href=\"https://colab.research.google.com/github/liamedeiros/Newton2BlackHoles/blob/main/Projectile_Motion_and_orbits.ipynb\" target=\"_parent\"><img src=\"https://colab.research.google.com/assets/colab-badge.svg\" alt=\"Open In Colab\"/></a>"
      ]
    },
    {
      "cell_type": "markdown",
      "source": [
        "# Projectile Motion and Orbits\n",
        "\n",
        "This notebook primarily follows the Day 2 curriculum of [\"From Newton to Black Holes\"](https://www.dropbox.com/s/kbfx7bq4eukopuz/Lesson%20Plan_From%20Newton%20to%20Black%20Holes.pdf?dl=0), which was developed as part of the NSF funded project [Black Hole PIRE](https://bhpire.arizona.edu/).\n",
        "\n",
        "Learning objectives for this notebook:\n",
        "* Explore the motion of projectiles on the surface of the Earth\n",
        "* Understand orbits as the continuous free fall of a projectile around the Earth\n",
        "\n",
        "Before we begin, please compile the cell below to load in the necessary libraries.\n",
        "\n"
      ],
      "metadata": {
        "id": "xVzC1sp-HID9"
      }
    },
    {
      "cell_type": "code",
      "source": [
        "import numpy as np\n",
        "import matplotlib.pyplot as plt\n",
        "import scipy\n",
        "import matplotlib\n",
        "# from matplotlib import rcParams\n",
        "from matplotlib import rc\n",
        "%matplotlib inline\n",
        "!apt-get update\n",
        "!apt install cm-super\n",
        "!sudo apt install cm-super dvipng texlive-latex-extra texlive-latex-recommended\n",
        "matplotlib.rcParams['text.usetex'] = True\n",
        "matplotlib.rcParams['font.family'] = 'serif'"
      ],
      "metadata": {
        "id": "QKoxpqNdIVSb"
      },
      "execution_count": null,
      "outputs": []
    },
    {
      "cell_type": "markdown",
      "source": [
        "In this notebook you will explore the motion of projectiles on the Earth's surface and understand them in terms of Newton's theory of gravity.\n",
        "\n",
        "For your first exploration, you will use the following web-based app developed at the University of Colorado: [https://phet.colorado.edu/en/simulation/projectile-motion](https://phet.colorado.edu/en/simulation/projectile-motion).\n",
        "\n",
        "\n",
        "The figure below shows a screenshot from the app, and points out a few of its controls. With this app, you can launch a projectile from a cannon and watch it as it free falls towards the surface of the Earth, following a parabolic trajectory.\n",
        "\n",
        "![projectile motion](https://github.com/liamedeiros/Newton2BlackHoles/blob/main/projectile_motion.png?raw=1)\n",
        "\n",
        "You can:\n",
        "* Change the initial height of the cannon\n",
        "* Change the angle of the cannon\n",
        "* Change the initial speed of the projectile\n",
        "* Change the type of projectile you are using\n",
        "* Move the bullseye to measure the distance the projectile traveled.\n",
        "\n"
      ],
      "metadata": {
        "id": "eLB0faQpQf2e"
      }
    },
    {
      "cell_type": "markdown",
      "source": [
        "1. **Set the cannon at 30 degrees, the initial height of the cannon to 0m, the initial speed at 10 m/s, and turn off air resistance. Change the mass and the type of the projectile (try throwing a piano!). Do these changes affect the trajectory of the objects?**\n",
        "\n",
        "Fill in the answer in the text cell below."
      ],
      "metadata": {
        "id": "pmWkXQh4Qs6U"
      }
    },
    {
      "cell_type": "markdown",
      "source": [],
      "metadata": {
        "id": "7ZYOr__wQuML"
      }
    },
    {
      "cell_type": "markdown",
      "source": [
        "2. **Set the cannon to 30 degrees, the initial height to 0 m, and turn off air resistance. Change the initial velocity from 5 m/s to 30 m/s. Move the location of the bullseye to match where your object landed to get an accurate measurement of horizontal distance. Fill in the following table with the horizontal distance that the object travelled as a function of initial velocity. Plot your results either on the graph on the right, on graph paper, a graphing calculator, or on a computer. For the latter, you can use Microsoft Excel or the programming/graphing language of your choice.**\n",
        "\n",
        "Use the cell below to plot the results of exercise 2. Plot the horizontal distance on the y-axis and the initial velocity on the x-axis. Remember to add a grid and label your axes."
      ],
      "metadata": {
        "id": "orWNRYQnQxiV"
      }
    },
    {
      "cell_type": "code",
      "source": [],
      "metadata": {
        "id": "1Ay86Vp4N_qt"
      },
      "execution_count": null,
      "outputs": []
    },
    {
      "cell_type": "markdown",
      "source": [
        "3. **Based on your plot of the experiment above what did you learn? How is initial velocity related to horizontal distance traveled?**\n",
        "\n",
        "Fill in your answer in the text cell below."
      ],
      "metadata": {
        "id": "EJDgcXCbQ4GG"
      }
    },
    {
      "cell_type": "markdown",
      "source": [],
      "metadata": {
        "id": "ex4RC2FZQ_A5"
      }
    },
    {
      "cell_type": "markdown",
      "source": [
        "For our second exploration, we will use the following web-based app developed at Weber State University:\n",
        "[https://physics.weber.edu/schroeder/software/NewtonsCannon.html](https://physics.weber.edu/schroeder/software/NewtonsCannon.html)\n",
        "\n",
        "The figure below shows a screenshot from the app, and points out a few of its controls. The drawing is actually a reproduction of the figure used by Newton himself to explain why an orbit is a continuous free fall.\n",
        "With this app, you can launch a projectile in the horizontal direction from the top of a mountain and follow its trajectory.\n",
        "\n",
        "![Newtons Cannon](https://github.com/liamedeiros/Newton2BlackHoles/blob/main/Newtons_cannon.png?raw=1)\n",
        "\n",
        "You can:\n",
        "* Change the initial speed of the projectile\n",
        "* Add sound effects!\n",
        "\n",
        "We can now use this app to extend the understanding we gained in questions 1-3 and ask what would happen if we fired the cannon with such a high velocity that the range becomes comparable to the radius of the Earth. The fact that the Earth is not flat is important here.\n"
      ],
      "metadata": {
        "id": "6SUeq5-KRCTI"
      }
    },
    {
      "cell_type": "markdown",
      "source": [
        "4. **Increase the initial speed of the projectile. How high should the initial velocity be in order to send the projectile into an orbit?**\n",
        "\n",
        "Fill in your answer in the text cell below."
      ],
      "metadata": {
        "id": "KDZhwXQRRG27"
      }
    },
    {
      "cell_type": "markdown",
      "source": [],
      "metadata": {
        "id": "_2SFO3lkRIBG"
      }
    },
    {
      "cell_type": "markdown",
      "source": [
        "We will now go back to the projectile motion exercise (number 2 above). Notice that as initial velocity increases the amount by which the distance traveled increases, also increases. In other words, this plot is not a straight line, but curves up. This might even remind you a bit of a parabola.\n",
        "\n",
        "5. **To test this, plot the initial velocity squared as a function of the distance traveled below.**"
      ],
      "metadata": {
        "id": "1vgBoF0zRM-C"
      }
    },
    {
      "cell_type": "code",
      "source": [],
      "metadata": {
        "id": "6YpPpmxuQ-RQ"
      },
      "execution_count": null,
      "outputs": []
    },
    {
      "cell_type": "markdown",
      "source": [
        "6.  **Is this plot a straight line? If so, what this really means is that these points follow the equation $y=mx+b$ where $x=\\mathrm{initial\\,velocity}^2$, $m$ is the slope the line in the plot above, and $b$ is the y-intercept, which is close to zero. Use ```scipy.stats.linregress``` to fit for the slope and the y-intercept of the line. Print the best fit values for the slope and the y-intercept.**"
      ],
      "metadata": {
        "id": "wr81xVXgRSl3"
      }
    },
    {
      "cell_type": "code",
      "source": [],
      "metadata": {
        "id": "Va1M8KigRTYa"
      },
      "execution_count": null,
      "outputs": []
    },
    {
      "cell_type": "markdown",
      "source": [
        "In the next few cells we will solve for the slope theoretically, using the projectile motion equations, and then compare to the result we got above.\n",
        "\n",
        "The equations of projectile motion are:\n",
        "\n",
        "$x=v_0t\\cos{(\\theta)}$\n",
        "\n",
        "$y=v_0t\\sin{(\\theta)}-\\frac{1}{2}gt^2$\n",
        "\n",
        "The variables are defined below:\n",
        "* $x$ is the horizontal location of the projectile\n",
        "* $v_0$ is the initial velocity of the projectile\n",
        "* $t$ is the time since the projectile left it's starting point\n",
        "* $\\theta$ is the angle the projectile was thrown at, the angle of the cannon in the web app\n",
        "* $y$ is the vertical location of the projectile\n",
        "* g is the gravitational acceleration ($9.8\\mathrm{m/s^2}$)\n",
        "\n",
        "Note that the variables $x$, $y$, and $t$ are defined at each instant in time, such that at each point in the projectile's trajectory its location will satisfy both of these equations. Note that these equations ignore the effects of air resistance, and set the initial height of the projectile to $y=0$.  "
      ],
      "metadata": {
        "id": "xzXhJ8L6J-0D"
      }
    },
    {
      "cell_type": "markdown",
      "source": [
        "Below I've defined a function that takes in values for the initial velocity and the angle of the cannon, and plots the trajectory of the object on a plot. The name of the function is ```projectile_motion``` and one can use that name to call the function. When calling the function, one needs to always provide the unitial velocity (```v0```), followed by the angle $\\theta$ (```theta```), within ```()```. Execute this cell so that the computer knows that this function has been defined."
      ],
      "metadata": {
        "id": "t9vRPce0KCHK"
      }
    },
    {
      "cell_type": "code",
      "source": [
        "def projectile_motion(v0, theta):\n",
        "  t = np.arange(400)/100 # this generates an array of values for t that range from 0 to almost 4\n",
        "  theta = theta/360*2.*np.pi # we assume that the user will give theta in units of degrees,\n",
        "  # but the functions below need it to be in radians. This converts it.\n",
        "  g=9.8 # gravitational accelaration in m/s^2\n",
        "\n",
        "  # the two lines below are the projectile motion equations\n",
        "  x=v0*t*np.cos(theta)\n",
        "  y=v0*t*np.sin(theta) - 0.5*g*t*t\n",
        "\n",
        "  # we only care about where y >=0\n",
        "  # the lines of code below remove the parts where y<0.\n",
        "  where_we_want = np.where(y>=0) # where function finds the places in the array where this condition is met\n",
        "  x_new = x[where_we_want] # x_new is a new array that will only contain values where y<0\n",
        "  y_new = y[where_we_want] # y_new is a new array that will only contain values where y<0\n",
        "\n",
        "\n",
        "  plt.plot(x_new, y_new)\n",
        "  plt.axhline(y=0, c='k') # this line plots a horizontal line at y=0\n",
        "  plt.xlabel('Horizontal Distance', fontsize=14)\n",
        "  plt.ylabel('Height', fontsize=14)\n",
        "  plt.grid(True) # we need a True here because if you call it multiple times it'll toggle on and off\n",
        "  return"
      ],
      "metadata": {
        "id": "UqgvimsfKFPB"
      },
      "execution_count": 1,
      "outputs": []
    },
    {
      "cell_type": "markdown",
      "source": [
        "We can use this function to re-do the experiment you did on the web app. To accomplish this we will use a very important programming tool, the ```for``` loop.\n",
        "\n",
        "In the cell below you will see an example of a for loop that will simply print the numbers 5, 10, 15, 20, 25, 30 (the values for the initial velocity you used with the web app). The for loop is a simple way for you to make the computer do something several times, without having to give the commands multiple times. for loops are incredibly useful for coding and one of the most important coding concepts."
      ],
      "metadata": {
        "id": "KNSOVxirKI-y"
      }
    },
    {
      "cell_type": "code",
      "source": [
        "for v0 in [5, 10, 15, 20, 25, 30]: # this command starts the for loop.\n",
        "  # The for loop will loop through the values in the square brackets above\n",
        "  print(v0) # here we will print the value of i so that you can see it change"
      ],
      "metadata": {
        "id": "KpRB5kccKIPz"
      },
      "execution_count": null,
      "outputs": []
    },
    {
      "cell_type": "markdown",
      "source": [
        "7. **To re-create the experiment you performed on the web app, we will first set theta=30 degrees (add a line below that sets theta to 30). We will then loop over the values of ```v0``` as we did above, and for each loop we will execute the ```projectile_motion``` function with the new value of ```v0```.**"
      ],
      "metadata": {
        "id": "YXxE0df2KOZQ"
      }
    },
    {
      "cell_type": "code",
      "source": [],
      "metadata": {
        "id": "cWFceynqKQLj"
      },
      "execution_count": null,
      "outputs": []
    },
    {
      "cell_type": "markdown",
      "source": [
        "8. **Use some algebra to solve the first equation of projectile motion, $x=v_0t\\cos{(\\theta)}$ for $t$. You might want to do this on a piece of paper, or together on the board. You can type the solution into the code cell below, or in a text cell if you prefer. If you use a code cell, don't execute it.**"
      ],
      "metadata": {
        "id": "7_6thm7OKRzk"
      }
    },
    {
      "cell_type": "code",
      "source": [],
      "metadata": {
        "id": "IdA7qvUnKTyb"
      },
      "execution_count": null,
      "outputs": []
    },
    {
      "cell_type": "markdown",
      "source": [
        "9. **Now plug your solution for $t$ into the equation for $y$, $y=v_0t\\sin{(\\theta)}-\\frac{1}{2}gt^2$. Write your solution in either a text cell or a code cell.**"
      ],
      "metadata": {
        "id": "_c-xUFnbKWDV"
      }
    },
    {
      "cell_type": "code",
      "source": [],
      "metadata": {
        "id": "pz9oVDVMKeUF"
      },
      "execution_count": null,
      "outputs": []
    },
    {
      "cell_type": "markdown",
      "source": [
        "We can re-write the equation you found above in the form\n",
        "\n",
        "$y = ax^2 + bx +c$\n",
        "\n",
        "as follows:\n",
        "\n",
        "$y = \\left( - \\frac{g}{2(v_0 \\cos{(\\theta)})^2}\\right) x^2 + \\tan{(\\theta)} x$\n",
        "\n",
        "where $a=\\left( - \\frac{g}{2(v_0 \\cos{(\\theta)})^2}\\right)$, $b = \\tan{(\\theta)} $ and $c=0$.\n",
        "\n",
        "To find the distance that the projectile traveled before hitting the ground we need to solve this equation for the value of $x$ where $y=0$. We can solve this with the quadratic equation:\n",
        "\n",
        "$ x = \\frac{-b \\pm \\sqrt{b^2-4ac}}{2a}$\n",
        "\n",
        "10. **In the code cell below, define a function that will take in the values of ```v0``` and ```theta``` and return the distance that the object traveled, the solution to the quadratic equation above, that is not zero. Look back at the ```projectile_motion``` function defined above for hints. it might also be useful to plug in $c=0$ and simplify the quadratic equation on a piece of paper.**"
      ],
      "metadata": {
        "id": "TtbnjaRyKe6O"
      }
    },
    {
      "cell_type": "code",
      "source": [],
      "metadata": {
        "id": "qi3DD_PYKiSN"
      },
      "execution_count": null,
      "outputs": []
    },
    {
      "cell_type": "markdown",
      "source": [
        "11. **Now check that your function works by copying the solution to question 7 below, and adding to each loop a call to this function. The function should return the value of x, and the y value is zero, so you can plot a point with plt.scatter for the location where the projectile will hit the floor.**"
      ],
      "metadata": {
        "id": "FBohZtw3KkaV"
      }
    },
    {
      "cell_type": "code",
      "source": [],
      "metadata": {
        "id": "yQVB23npKnHn"
      },
      "execution_count": null,
      "outputs": []
    },
    {
      "cell_type": "markdown",
      "source": [
        "12. **Now copy the solution to exercise 2, and on top of that curve, plot the x values that you find from the function you defined above, as a function of the initial velocity. Hint, you can probably plug a whole array of initial velocities into your function.**"
      ],
      "metadata": {
        "id": "v8Nr5GIRKntn"
      }
    },
    {
      "cell_type": "code",
      "source": [],
      "metadata": {
        "id": "7yl5f63yKrzG"
      },
      "execution_count": null,
      "outputs": []
    },
    {
      "cell_type": "markdown",
      "source": [
        "13. **The exercises you just went through demonstrate several important aspects of being a scientist. First, you conducted an experiment, plotted the results of that experiment and analysed the results. You then worked with the theoretical predictions of the experiment, and compared the theory, to the experimental results. Did your experiement match the theoretical predictions? If you want to go one step further you can solve the quadratic equation by hand and find an equation for this line. Does your slope of the this line match the results of exercise 6?**"
      ],
      "metadata": {
        "id": "rv2hKRVbKthO"
      }
    },
    {
      "cell_type": "markdown",
      "source": [],
      "metadata": {
        "id": "7B7IxZUDKxT-"
      }
    }
  ]
}