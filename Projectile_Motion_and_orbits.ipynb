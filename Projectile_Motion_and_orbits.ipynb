{
  "nbformat": 4,
  "nbformat_minor": 0,
  "metadata": {
    "colab": {
      "provenance": [],
      "authorship_tag": "ABX9TyMt9uSzuUaaR5zqv6ZQIafx",
      "include_colab_link": true
    },
    "kernelspec": {
      "name": "python3",
      "display_name": "Python 3"
    },
    "language_info": {
      "name": "python"
    }
  },
  "cells": [
    {
      "cell_type": "markdown",
      "metadata": {
        "id": "view-in-github",
        "colab_type": "text"
      },
      "source": [
        "<a href=\"https://colab.research.google.com/github/liamedeiros/Newton2BlackHoles/blob/main/Projectile_Motion_and_orbits.ipynb\" target=\"_parent\"><img src=\"https://colab.research.google.com/assets/colab-badge.svg\" alt=\"Open In Colab\"/></a>"
      ]
    },
    {
      "cell_type": "markdown",
      "source": [
        "# Projectile Motion and Orbits\n",
        "\n",
        "This notebook primarily follows Day 2 curriculum of [*\"From Newton to Black Holes\"*](https://www.dropbox.com/s/kbfx7bq4eukopuz/Lesson%20Plan_From%20Newton%20to%20Black%20Holes.pdf?dl=0), which was developed as part of the NSF funded project [Black Hole PIRE](https://bhpire.arizona.edu/).\n",
        "\n",
        "Learning objectives for this notebook:\n",
        "* Explore the motion of projectiles on the surface of the Earth\n",
        "* Understand orbits as the continuous free fall of a projectile around the Earth\n",
        "\n",
        "In this notebook you will explore the motion of projectiles on the Earth's surface and understand them in terms of Newton's theory of gravity.\n",
        "\n",
        "For your first exploration, you will use the following web-based app developed at the University of Colorado: [https://phet.colorado.edu/en/simulation/projectile-motion](https://phet.colorado.edu/en/simulation/projectile-motion).\n",
        "\n",
        "\n",
        "![projectile motion](projectile_motion.png)\n",
        "\n",
        "The figure on the right shows a screenshot from the app, and points out a few of its controls. With this app, you can launch a projectile from a cannon and watch it as it free falls towards the surface of the Earth, following a parabolic trajectory.\n",
        "\n",
        "You can:\n",
        "* Change the initial height of the cannon\n",
        "* Change the angle of the cannon\n",
        "* Change the initial speed of the projectile\n",
        "* Change the type of projectile you are using\n",
        "* Move the bullseye to measure the distance the projectile traveled.\n",
        "\n"
      ],
      "metadata": {
        "id": "xVzC1sp-HID9"
      }
    },
    {
      "cell_type": "code",
      "source": [],
      "metadata": {
        "id": "QKoxpqNdIVSb"
      },
      "execution_count": 1,
      "outputs": []
    },
    {
      "cell_type": "code",
      "source": [],
      "metadata": {
        "id": "1Ay86Vp4N_qt"
      },
      "execution_count": null,
      "outputs": []
    }
  ]
}