{
  "nbformat": 4,
  "nbformat_minor": 0,
  "metadata": {
    "colab": {
      "provenance": [],
      "authorship_tag": "ABX9TyMfBQsSgEdVtVlhVJHJxlYg",
      "include_colab_link": true
    },
    "kernelspec": {
      "name": "python3",
      "display_name": "Python 3"
    },
    "language_info": {
      "name": "python"
    }
  },
  "cells": [
    {
      "cell_type": "markdown",
      "metadata": {
        "id": "view-in-github",
        "colab_type": "text"
      },
      "source": [
        "<a href=\"https://colab.research.google.com/github/liamedeiros/Newton2BlackHoles/blob/main/Projectile_Motion_and_orbits.ipynb\" target=\"_parent\"><img src=\"https://colab.research.google.com/assets/colab-badge.svg\" alt=\"Open In Colab\"/></a>"
      ]
    },
    {
      "cell_type": "markdown",
      "source": [
        "# Projectile Motion and Orbits\n",
        "\n",
        "This notebook primarily follows the Day 2 curriculum of [\"From Newton to Black Holes\"](https://www.dropbox.com/s/kbfx7bq4eukopuz/Lesson%20Plan_From%20Newton%20to%20Black%20Holes.pdf?dl=0), which was developed as part of the NSF funded project [Black Hole PIRE](https://bhpire.arizona.edu/).\n",
        "\n",
        "Learning objectives for this notebook:\n",
        "* Explore the motion of projectiles on the surface of the Earth\n",
        "* Understand orbits as the continuous free fall of a projectile around the Earth\n",
        "\n",
        "before we begin, please compile the cell below to load in the necessary libraries.\n",
        "\n"
      ],
      "metadata": {
        "id": "xVzC1sp-HID9"
      }
    },
    {
      "cell_type": "code",
      "source": [
        "import numpy as np\n",
        "import matplotlib.pyplot as plt\n",
        "import scipy\n",
        "import matplotlib\n",
        "# from matplotlib import rcParams\n",
        "from matplotlib import rc\n",
        "%matplotlib inline\n",
        "!apt-get update\n",
        "!apt install cm-super\n",
        "!sudo apt install cm-super dvipng texlive-latex-extra texlive-latex-recommended\n",
        "matplotlib.rcParams['text.usetex'] = True\n",
        "matplotlib.rcParams['font.family'] = 'serif'"
      ],
      "metadata": {
        "id": "QKoxpqNdIVSb"
      },
      "execution_count": null,
      "outputs": []
    },
    {
      "cell_type": "markdown",
      "source": [
        "In this notebook you will explore the motion of projectiles on the Earth's surface and understand them in terms of Newton's theory of gravity.\n",
        "\n",
        "For your first exploration, you will use the following web-based app developed at the University of Colorado: [https://phet.colorado.edu/en/simulation/projectile-motion](https://phet.colorado.edu/en/simulation/projectile-motion).\n",
        "\n",
        "\n",
        "The figure below shows a screenshot from the app, and points out a few of its controls. With this app, you can launch a projectile from a cannon and watch it as it free falls towards the surface of the Earth, following a parabolic trajectory.\n",
        "\n",
        "![projectile motion](https://github.com/liamedeiros/Newton2BlackHoles/blob/main/projectile_motion.png?raw=1)\n",
        "\n",
        "You can:\n",
        "* Change the initial height of the cannon\n",
        "* Change the angle of the cannon\n",
        "* Change the initial speed of the projectile\n",
        "* Change the type of projectile you are using\n",
        "* Move the bullseye to measure the distance the projectile traveled.\n",
        "\n"
      ],
      "metadata": {
        "id": "eLB0faQpQf2e"
      }
    },
    {
      "cell_type": "markdown",
      "source": [
        "1. **Set the cannon at 30 degrees, the initial height of the cannon to 0m, the initial speed at 10 m/s, and turn off air resistance. Change the mass and the type of the projectile (try throwing a piano!). Do these changes affect the trajectory of the objects?**\n",
        "\n",
        "Fill in the answer in the text cell below."
      ],
      "metadata": {
        "id": "pmWkXQh4Qs6U"
      }
    },
    {
      "cell_type": "markdown",
      "source": [],
      "metadata": {
        "id": "7ZYOr__wQuML"
      }
    },
    {
      "cell_type": "markdown",
      "source": [
        "2. **Set the cannon to 30 degrees, the initial height to 0 m, and turn off air resistance. Change the initial velocity from 5 m/s to 30 m/s. Move the location of the bullseye to match where your object landed to get an accurate measurement of horizontal distance. Fill in the following table with the horizontal distance that the object travelled as a function of initial velocity. Plot your results either on the graph on the right, on graph paper, a graphing calculator, or on a computer. For the latter, you can use Microsoft Excel or the programming/graphing language of your choice.**\n",
        "\n",
        "Use the cell below to plot the results of exercise 2. Plot the horizontal distance on the y-axis and the initial velocity on the x-axis. Remember to add a grid and label your axes."
      ],
      "metadata": {
        "id": "orWNRYQnQxiV"
      }
    },
    {
      "cell_type": "code",
      "source": [],
      "metadata": {
        "id": "1Ay86Vp4N_qt"
      },
      "execution_count": null,
      "outputs": []
    },
    {
      "cell_type": "markdown",
      "source": [
        "3. **Based on your plot of the experiment above what did you learn? How is initial velocity related to horizontal distance traveled?**\n",
        "\n",
        "Fill in your answer in the text cell below."
      ],
      "metadata": {
        "id": "EJDgcXCbQ4GG"
      }
    },
    {
      "cell_type": "markdown",
      "source": [],
      "metadata": {
        "id": "ex4RC2FZQ_A5"
      }
    },
    {
      "cell_type": "markdown",
      "source": [
        "For our second exploration, we will use the following web-based app developed at Weber State University:\n",
        "[https://physics.weber.edu/schroeder/software/NewtonsCannon.html](https://physics.weber.edu/schroeder/software/NewtonsCannon.html)\n",
        "\n",
        "The figure below shows a screenshot from the app, and points out a few of its controls. The drawing is actually a reproduction of the figure used by Newton himself to explain why an orbit is a continuous free fall.\n",
        "With this app, you can launch a projectile in the horizontal direction from the top of a mountain and follow its trajectory.\n",
        "\n",
        "![Newtons Cannon](https://github.com/liamedeiros/Newton2BlackHoles/blob/main/Newtons_cannon.png?raw=1)\n",
        "\n",
        "You can:\n",
        "* Change the initial speed of the projectile\n",
        "* Add sound effects!\n",
        "\n",
        "We can now use this app to extend the understanding we gained in questions 1-3 and ask what would happen if we fired the cannon with such a high velocity that the range becomes comparable to the radius of the Earth. The fact that the Earth is not flat is important here.\n"
      ],
      "metadata": {
        "id": "6SUeq5-KRCTI"
      }
    },
    {
      "cell_type": "markdown",
      "source": [
        "4. **Increase the initial speed of the projectile. How high should the initial velocity be in order to send the projectile into an orbit?**\n",
        "\n",
        "Fill in your answer in the text cell below."
      ],
      "metadata": {
        "id": "KDZhwXQRRG27"
      }
    },
    {
      "cell_type": "markdown",
      "source": [],
      "metadata": {
        "id": "_2SFO3lkRIBG"
      }
    },
    {
      "cell_type": "markdown",
      "source": [
        "We will now go back to the projectile motion exercise (number 2 above). Notice that as initial velocity increases the amount by which the distance traveled increases, also increases. In other words, this plot is not a straight line, but curves up. This might even remind you a bit of a parabola.\n",
        "\n",
        "5. **To test this, plot the initial velocity squared as a function of the distance traveled below.**"
      ],
      "metadata": {
        "id": "1vgBoF0zRM-C"
      }
    },
    {
      "cell_type": "code",
      "source": [],
      "metadata": {
        "id": "6YpPpmxuQ-RQ"
      },
      "execution_count": null,
      "outputs": []
    },
    {
      "cell_type": "markdown",
      "source": [
        "6.  **Is this plot a straight line? If so, what this really means is that these points follow the equation $y=mx+b$ where $x=\\mathrm{initial\\,velocity}^2$, $m$ is the slope the line in the plot above, and $b$ is the y-intercept, which is close to zero.**"
      ],
      "metadata": {
        "id": "wr81xVXgRSl3"
      }
    },
    {
      "cell_type": "code",
      "source": [],
      "metadata": {
        "id": "Va1M8KigRTYa"
      },
      "execution_count": null,
      "outputs": []
    }
  ]
}