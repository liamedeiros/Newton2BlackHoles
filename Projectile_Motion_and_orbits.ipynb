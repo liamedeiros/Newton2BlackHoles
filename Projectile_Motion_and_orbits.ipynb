{
  "nbformat": 4,
  "nbformat_minor": 0,
  "metadata": {
    "colab": {
      "provenance": [],
      "authorship_tag": "ABX9TyOxnSzjOxsfd5lFjEP2NzZz",
      "include_colab_link": true
    },
    "kernelspec": {
      "name": "python3",
      "display_name": "Python 3"
    },
    "language_info": {
      "name": "python"
    }
  },
  "cells": [
    {
      "cell_type": "markdown",
      "metadata": {
        "id": "view-in-github",
        "colab_type": "text"
      },
      "source": [
        "<a href=\"https://colab.research.google.com/github/liamedeiros/Newton2BlackHoles/blob/main/Projectile_Motion_and_orbits.ipynb\" target=\"_parent\"><img src=\"https://colab.research.google.com/assets/colab-badge.svg\" alt=\"Open In Colab\"/></a>"
      ]
    },
    {
      "cell_type": "markdown",
      "source": [
        "# Projectile Motion and Orbits\n",
        "\n",
        "This notebook primarily follows Day 2 curriculum of [*\"From Newton to Black Holes\"*](https://www.dropbox.com/s/kbfx7bq4eukopuz/Lesson%20Plan_From%20Newton%20to%20Black%20Holes.pdf?dl=0), which was developed as part of the NSF funded project [Black Hole PIRE](https://bhpire.arizona.edu/).\n",
        "\n",
        "Learning objectives for this notebook:\n",
        "* Explore the motion of projectiles on the surface of the Earth\n",
        "* Understand orbits as the continuous free fall of a projectile around the Earth\n",
        "\n",
        "In this notebook you will explore the motion of projectiles on the Earth's surface and understand them in terms of Newton's theory of gravity.\n",
        "\n",
        "For your first exploration, you will use the following web-based app developed at the University of Colorado: [https://phet.colorado.edu/en/simulation/projectile-motion](https://phet.colorado.edu/en/simulation/projectile-motion).\n",
        "\n",
        "\n",
        "The figure on the right shows a screenshot from the app, and points out a few of its controls. With this app, you can launch a projectile from a cannon and watch it as it free falls towards the surface of the Earth, following a parabolic trajectory.\n",
        "\n",
        "![picture](https://drive.google.com/file/d/1_1tLfMsnLB-q-5ygys-GguEXsnDjtv2Q/preview)\n",
        "\n",
        "<iframe src=\"https://drive.google.com/file/d/1_1tLfMsnLB-q-5ygys-GguEXsnDjtv2Q/preview\" width=\"640\" height=\"480\" allow=\"autoplay\"></iframe>\n",
        "\n",
        "https://drive.google.com/file/d/1_1tLfMsnLB-q-5ygys-GguEXsnDjtv2Q/view?usp=sharing\n",
        "\n",
        "![](https://drive.google.com/uc?export=view&id=1_1tLfMsnLB-q-5ygys-GguEXsnDjtv2Q/preview)\n",
        "\n",
        "You can:\n",
        "* Change the initial height of the cannon\n",
        "* Change the angle of the cannon\n",
        "* Change the initial speed of the projectile\n",
        "* Change the type of projectile you are using\n",
        "* Move the bullseye to measure the distance the projectile traveled.\n",
        "\n"
      ],
      "metadata": {
        "id": "xVzC1sp-HID9"
      }
    },
    {
      "cell_type": "code",
      "source": [
        "!wget https://drive.google.com/file/d/1_1tLfMsnLB-q-5ygys-GguEXsnDjtv2Q/view?usp=sharing -O /content/projectile_motion.jpg"
      ],
      "metadata": {
        "colab": {
          "base_uri": "https://localhost:8080/"
        },
        "id": "QKoxpqNdIVSb",
        "outputId": "df980e2d-e57f-49cc-96cf-9c5e34fee2c9"
      },
      "execution_count": 1,
      "outputs": [
        {
          "output_type": "stream",
          "name": "stdout",
          "text": [
            "--2023-08-13 23:25:29--  https://drive.google.com/file/d/1_1tLfMsnLB-q-5ygys-GguEXsnDjtv2Q/view?usp=sharing\n",
            "Resolving drive.google.com (drive.google.com)... 173.194.202.138, 173.194.202.139, 173.194.202.113, ...\n",
            "Connecting to drive.google.com (drive.google.com)|173.194.202.138|:443... connected.\n",
            "HTTP request sent, awaiting response... 200 OK\n",
            "Length: unspecified [text/html]\n",
            "Saving to: ‘/content/projectile_motion.jpg’\n",
            "\n",
            "/content/projectile     [ <=>                ]  77.68K  --.-KB/s    in 0.005s  \n",
            "\n",
            "2023-08-13 23:25:29 (16.0 MB/s) - ‘/content/projectile_motion.jpg’ saved [79546]\n",
            "\n"
          ]
        }
      ]
    },
    {
      "cell_type": "code",
      "source": [],
      "metadata": {
        "id": "1Ay86Vp4N_qt"
      },
      "execution_count": null,
      "outputs": []
    }
  ]
}